{
 "cells": [
  {
   "cell_type": "code",
   "execution_count": 1,
   "metadata": {},
   "outputs": [],
   "source": [
    "import requests\n",
    "import json\n",
    "import pandas as pd\n",
    "from secrets import spotify_access_token, spotify_user_name\n",
    "SPOTIFY_CREATE_PLAYLIST_URL = f'https://api.spotify.com/v1/users/{spotify_user_name}/playlists'\n",
    "PLAYLIST_ITEM = 'https://api.spotify.com/v1/playlists/5e8ijEDzlaB0y9apSoZNBI/tracks'\n"
   ]
  },
  {
   "cell_type": "code",
   "execution_count": null,
   "metadata": {},
   "outputs": [],
   "source": [
    "def create_playlist_on_spotify(name, public):\n",
    "    responses = requests.post(\n",
    "        SPOTIFY_CREATE_PLAYLIST_URL,\n",
    "        headers={\n",
    "            \"Authorization\": f\"Bearer {spotify_access_token}\"\n",
    "        },\n",
    "        json={\n",
    "            \"name\": name,\n",
    "            \"public\": public\n",
    "        }\n",
    "    )\n",
    "    json_resp = responses.json()\n",
    "    return json_resp"
   ]
  },
  {
   "cell_type": "code",
   "execution_count": null,
   "metadata": {},
   "outputs": [],
   "source": [
    "def get_top_artists():\n",
    "    url = \"https://api.spotify.com/v1/me/top/artists\"\n",
    "    responses = requests.get(\n",
    "        url,\n",
    "        headers={\n",
    "            \"Content-Type\": \"application/json\",\n",
    "            \"Authorization\": f\"Bearer {spotify_access_token}\"\n",
    "        }\n",
    "    )\n",
    "    json_resp = responses.json()\n",
    "    print(json.dumps(json_resp, indent = 3))\n",
    "    #return json_resp\n",
    "get_top_artists()"
   ]
  },
  {
   "cell_type": "code",
   "execution_count": null,
   "metadata": {},
   "outputs": [],
   "source": [
    "def get_artist(id):\n",
    "    url = f\"https://api.spotify.com/v1/artists/{id}\"\n",
    "    responses = requests.get(\n",
    "        url,\n",
    "        headers={\n",
    "            \"Content-Type\": \"application/json\",\n",
    "            \"Authorization\": f\"Bearer {spotify_access_token}\"\n",
    "        }\n",
    "    )\n",
    "    json_resp = responses.json()\n",
    "    print(json.dumps(json_resp, indent = 3))\n",
    "    #return json_resp\n",
    "get_artist(\"5YGY8feqx7naU7z4HrwZM6\")"
   ]
  },
  {
   "cell_type": "code",
   "execution_count": null,
   "metadata": {},
   "outputs": [],
   "source": [
    "def user_top_tracks():\n",
    "    url = \"https://api.spotify.com/v1/me/top/tracks\"\n",
    "    responses = requests.get(\n",
    "        url,\n",
    "        headers={\n",
    "            \"Content-Type\": \"application/json\",\n",
    "            \"Authorization\": f\"Bearer {spotify_access_token}\"\n",
    "        }\n",
    "    )\n",
    "    json_resp = responses.json()\n",
    "    print(json.dumps(json_resp, indent = 3))\n",
    "    #return json_resp\n",
    "#user_top_tracks()"
   ]
  },
  {
   "cell_type": "code",
   "execution_count": null,
   "metadata": {},
   "outputs": [],
   "source": [
    "def get_track(id):\n",
    "    url = f\"https://api.spotify.com/v1/tracks/{id}\"\n",
    "    responses = requests.get(\n",
    "        url,\n",
    "        headers={\n",
    "            \"Content-Type\": \"application/json\",\n",
    "            \"Authorization\": f\"Bearer {spotify_access_token}\"\n",
    "        }\n",
    "    )\n",
    "    json_resp = responses.json()\n",
    "    print(json.dumps(json_resp, indent = 3))\n",
    "    #return json_resp\n",
    "get_track(\"6SdIYVgu6HsPPYfRY1XI8Y\")"
   ]
  },
  {
   "cell_type": "code",
   "execution_count": null,
   "metadata": {},
   "outputs": [
    {
     "name": "stdout",
     "output_type": "stream",
     "text": [
      "name: Naive >>>>>> link: https://open.spotify.com/track/7BHPGtpuuWWsvE7cCaMuEU Popularity: 75\n",
      "Give: Naive a 0 for dislike and 1 from like\n",
      "1\n",
      "name: If It Means a Lot to You >>>>>> link: https://open.spotify.com/track/6J7cSyvSCnPwv3vqHchEfL Popularity: 70\n",
      "Give: If It Means a Lot to You a 0 for dislike and 1 from like\n",
      "0\n",
      "name: The Man >>>>>> link: https://open.spotify.com/track/5aWhs651KYM26HYM16kRdk Popularity: 66\n",
      "Give: The Man a 0 for dislike and 1 from like\n",
      "1\n",
      "name: Beyond >>>>>> link: https://open.spotify.com/track/1Omt5bfz1tZUCqd26HxbS0 Popularity: 74\n",
      "Give: Beyond a 0 for dislike and 1 from like\n",
      "0\n",
      "name: Free Bird >>>>>> link: https://open.spotify.com/track/5EWPGh7jbTNO2wakv8LjUI Popularity: 74\n",
      "Give: Free Bird a 0 for dislike and 1 from like\n",
      "1\n",
      "name: Nico and the Niners >>>>>> link: https://open.spotify.com/track/5SehvGGC53A7SZKCLXQcyt Popularity: 69\n",
      "Give: Nico and the Niners a 0 for dislike and 1 from like\n",
      "1\n",
      "name: Come On Get Higher >>>>>> link: https://open.spotify.com/track/38YgZVHPWOWsKrsCXz6JyP Popularity: 73\n",
      "Give: Come On Get Higher a 0 for dislike and 1 from like\n",
      "1\n",
      "name: Lift Me Up (feat. Rob Halford of Judas Priest) >>>>>> link: https://open.spotify.com/track/1LHZMWefF9502NPfArRfvP Popularity: 61\n"
     ]
    }
   ],
   "source": [
    "def get_recommendation():\n",
    "    market = \"IS\"\n",
    "    seed_artists= \"0MtTfq27LQu7CmE5t308Up\"\n",
    "    seed_genre = \"rock%2Cacoustic\"\n",
    "    seed_tracks = \"6SdIYVgu6HsPPYfRY1XI8Y\"\n",
    "    url = f\"https://api.spotify.com/v1/recommendations?market={market}&seed_artists={seed_artists}&seed_genres={seed_genre}&seed_tracks={seed_tracks}&min_energy=0.4&min_popularity=50\"\n",
    "    responses = requests.get(\n",
    "        url,\n",
    "        headers={\n",
    "            \"Content-Type\": \"application/json\",\n",
    "            \"Authorization\": f\"Bearer {spotify_access_token}\"\n",
    "        }\n",
    "    )\n",
    "    json_resp = responses.json()\n",
    "    #print(json_resp)\n",
    "    len_tracks = len(json_resp['tracks'])\n",
    "    \n",
    "    for item_number in range(len_tracks):\n",
    "        tracks = json_resp['tracks'][item_number]\n",
    "        track_id = tracks['id']\n",
    "        track_name = tracks['name']\n",
    "        track_popularity = tracks['popularity']\n",
    "        track_external_link = tracks['external_urls']['spotify']\n",
    "        \n",
    "        print(\"name: \" + str(track_name) + \n",
    "              \" >>>>>> \" + \"link: \" + str(track_external_link) + \n",
    "              \" Popularity: \" + str(track_popularity))\n",
    "        user_input = input(f\"Give: {track_name} a 0 for dislike and 1 from like\\n\")\n",
    "\n",
    "    #print(json.dumps(json_resp, indent = 3))\n",
    "    #return json_resp\n",
    "get_recommendation()"
   ]
  },
  {
   "cell_type": "code",
   "execution_count": null,
   "metadata": {},
   "outputs": [],
   "source": [
    "get_artist(\"0MtTfq27LQu7CmE5t308Up\")"
   ]
  },
  {
   "cell_type": "code",
   "execution_count": null,
   "metadata": {},
   "outputs": [],
   "source": [
    "def get_recommendation_from_playlist(playlist_id):\n",
    "    return 0"
   ]
  },
  {
   "cell_type": "code",
   "execution_count": null,
   "metadata": {},
   "outputs": [],
   "source": [
    "\n",
    "def get_recommendation_from_artist(artist_id, country_code):\n",
    "    # bubbi_id = 0MtTfq27LQu7CmE5t308Up\n",
    "    # https://developer.spotify.com/console/get-recommendations/\n",
    "    url = f\"https://api.spotify.com/v1/recommendations?market={country_code}&seed_artists={artist_id}\"\n",
    "    responses = requests.get(\n",
    "        url,\n",
    "        headers={\n",
    "            \"Content-Type\": \"application/json\",\n",
    "            \"Authorization\": f\"Bearer {spotify_access_token}\"\n",
    "        }\n",
    "    )\n",
    "    json_resp = responses.json()\n",
    "    #with open(f'data/recommendations_from_{artist_id}.json', 'w') as f:\n",
    "     #   json.dump(json_resp, f, ensure_ascii=False)\n",
    "    #print(json_resp['tracks'][0].keys())\n",
    "\n",
    "    #print(json_resp['tracks'][1])\n",
    "    #return json_resp"
   ]
  },
  {
   "cell_type": "code",
   "execution_count": null,
   "metadata": {},
   "outputs": [],
   "source": [
    "get_recommendation_from_artist(\"0MtTfq27LQu7CmE5t308Up\", \"IS\")"
   ]
  },
  {
   "cell_type": "code",
   "execution_count": null,
   "metadata": {},
   "outputs": [],
   "source": []
  },
  {
   "cell_type": "code",
   "execution_count": null,
   "metadata": {},
   "outputs": [],
   "source": []
  }
 ],
 "metadata": {
  "kernelspec": {
   "display_name": "Python 3",
   "language": "python",
   "name": "python3"
  },
  "language_info": {
   "codemirror_mode": {
    "name": "ipython",
    "version": 3
   },
   "file_extension": ".py",
   "mimetype": "text/x-python",
   "name": "python",
   "nbconvert_exporter": "python",
   "pygments_lexer": "ipython3",
   "version": "3.7.10"
  }
 },
 "nbformat": 4,
 "nbformat_minor": 4
}
