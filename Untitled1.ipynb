{
 "cells": [
  {
   "cell_type": "code",
   "execution_count": 1,
   "metadata": {},
   "outputs": [],
   "source": [
    "import requests\n",
    "import json\n",
    "import pandas as pd\n",
    "from secrets import spotify_access_token, spotify_user_name\n",
    "SPOTIFY_CREATE_PLAYLIST_URL = f'https://api.spotify.com/v1/users/{spotify_user_name}/playlists'\n",
    "PLAYLIST_ITEM = 'https://api.spotify.com/v1/playlists/5e8ijEDzlaB0y9apSoZNBI/tracks'\n"
   ]
  },
  {
   "cell_type": "code",
   "execution_count": null,
   "metadata": {},
   "outputs": [],
   "source": [
    "def create_playlist_on_spotify(name, public):\n",
    "    responses = requests.post(\n",
    "        SPOTIFY_CREATE_PLAYLIST_URL,\n",
    "        headers={\n",
    "            \"Authorization\": f\"Bearer {spotify_access_token}\"\n",
    "        },\n",
    "        json={\n",
    "            \"name\": name,\n",
    "            \"public\": public\n",
    "        }\n",
    "    )\n",
    "    json_resp = responses.json()\n",
    "    return json_resp"
   ]
  },
  {
   "cell_type": "code",
   "execution_count": null,
   "metadata": {},
   "outputs": [],
   "source": [
    "def get_top_artists():\n",
    "    url = \"https://api.spotify.com/v1/me/top/artists\"\n",
    "    responses = requests.get(\n",
    "        url,\n",
    "        headers={\n",
    "            \"Content-Type\": \"application/json\",\n",
    "            \"Authorization\": f\"Bearer {spotify_access_token}\"\n",
    "        }\n",
    "    )\n",
    "    json_resp = responses.json()\n",
    "    print(json.dumps(json_resp, indent = 3))\n",
    "    #return json_resp\n",
    "get_top_artists()"
   ]
  },
  {
   "cell_type": "code",
   "execution_count": null,
   "metadata": {},
   "outputs": [],
   "source": [
    "def get_artist(id):\n",
    "    url = f\"https://api.spotify.com/v1/artists/{id}\"\n",
    "    responses = requests.get(\n",
    "        url,\n",
    "        headers={\n",
    "            \"Content-Type\": \"application/json\",\n",
    "            \"Authorization\": f\"Bearer {spotify_access_token}\"\n",
    "        }\n",
    "    )\n",
    "    json_resp = responses.json()\n",
    "    print(json.dumps(json_resp, indent = 3))\n",
    "    #return json_resp\n",
    "get_artist(\"5YGY8feqx7naU7z4HrwZM6\")"
   ]
  },
  {
   "cell_type": "code",
   "execution_count": null,
   "metadata": {},
   "outputs": [],
   "source": [
    "def user_top_tracks():\n",
    "    url = \"https://api.spotify.com/v1/me/top/tracks\"\n",
    "    responses = requests.get(\n",
    "        url,\n",
    "        headers={\n",
    "            \"Content-Type\": \"application/json\",\n",
    "            \"Authorization\": f\"Bearer {spotify_access_token}\"\n",
    "        }\n",
    "    )\n",
    "    json_resp = responses.json()\n",
    "    print(json.dumps(json_resp, indent = 3))\n",
    "    #return json_resp\n",
    "#user_top_tracks()"
   ]
  },
  {
   "cell_type": "code",
   "execution_count": null,
   "metadata": {},
   "outputs": [],
   "source": [
    "def get_track(id):\n",
    "    url = f\"https://api.spotify.com/v1/tracks/{id}\"\n",
    "    responses = requests.get(\n",
    "        url,\n",
    "        headers={\n",
    "            \"Content-Type\": \"application/json\",\n",
    "            \"Authorization\": f\"Bearer {spotify_access_token}\"\n",
    "        }\n",
    "    )\n",
    "    json_resp = responses.json()\n",
    "    print(json.dumps(json_resp, indent = 3))\n",
    "    #return json_resp\n",
    "get_track(\"6SdIYVgu6HsPPYfRY1XI8Y\")"
   ]
  },
  {
   "cell_type": "code",
   "execution_count": 5,
   "metadata": {},
   "outputs": [
    {
     "name": "stdout",
     "output_type": "stream",
     "text": [
      "name: Scene Three - Stomach Tied In Knots >>>>>> link: https://open.spotify.com/track/6gr1b9QdhEkAfGbq07dBSf Popularity: 53\n",
      "Give: Scene Three - Stomach Tied In Knots a -1 for dislike, 0 for neutral and 1 from like\n",
      "\n",
      "name: You're in Love with a Psycho >>>>>> link: https://open.spotify.com/track/0AJhcuRl3i1FfPNr88ZScv Popularity: 61\n",
      "Give: You're in Love with a Psycho a -1 for dislike, 0 for neutral and 1 from like\n",
      "\n",
      "name: Song #3 >>>>>> link: https://open.spotify.com/track/5jsDxDkJ1PqyYUWhDMr86B Popularity: 64\n",
      "Give: Song #3 a -1 for dislike, 0 for neutral and 1 from like\n",
      "\n",
      "name: Rx (Medicate) >>>>>> link: https://open.spotify.com/track/2UZtI2HUyLRzqBjodvcUmY Popularity: 72\n",
      "Give: Rx (Medicate) a -1 for dislike, 0 for neutral and 1 from like\n",
      "\n",
      "name: Renegades Of Funk >>>>>> link: https://open.spotify.com/track/5YBVDvTSSSiqv7KZDeUlXA Popularity: 67\n",
      "Give: Renegades Of Funk a -1 for dislike, 0 for neutral and 1 from like\n",
      "\n",
      "name: Last Young Renegade >>>>>> link: https://open.spotify.com/track/66hOCG7IpEJI5wfLDhajxD Popularity: 55\n",
      "Give: Last Young Renegade a -1 for dislike, 0 for neutral and 1 from like\n",
      "\n",
      "name: Drunk >>>>>> link: https://open.spotify.com/track/4RnCPWlBsY7oUDdyruod7Y Popularity: 68\n",
      "Give: Drunk a -1 for dislike, 0 for neutral and 1 from like\n",
      "\n",
      "name: Start Me Up - Remastered >>>>>> link: https://open.spotify.com/track/7HKez549fwJQDzx3zLjHKC Popularity: 78\n",
      "Give: Start Me Up - Remastered a -1 for dislike, 0 for neutral and 1 from like\n",
      "\n",
      "name: The Wind Cries Mary >>>>>> link: https://open.spotify.com/track/5H6Jp0syB5yEPk7SWYdlmk Popularity: 65\n",
      "Give: The Wind Cries Mary a -1 for dislike, 0 for neutral and 1 from like\n",
      "\n",
      "name: Smooth (feat. Rob Thomas) >>>>>> link: https://open.spotify.com/track/0n2SEXB2qoRQg171q7XqeW Popularity: 70\n",
      "Give: Smooth (feat. Rob Thomas) a -1 for dislike, 0 for neutral and 1 from like\n",
      "\n",
      "name: The Stroke - Remastered >>>>>> link: https://open.spotify.com/track/52KvuGmgcgRdrLMXOtda0E Popularity: 68\n",
      "Give: The Stroke - Remastered a -1 for dislike, 0 for neutral and 1 from like\n",
      "\n",
      "name: Black Butterflies and Déjà Vu >>>>>> link: https://open.spotify.com/track/6QZ8h3RqIgTRTo3hfaqryx Popularity: 62\n",
      "Give: Black Butterflies and Déjà Vu a -1 for dislike, 0 for neutral and 1 from like\n",
      "\n",
      "name: Monkey Wrench >>>>>> link: https://open.spotify.com/track/44wXefe8WB9Fd6xwtmAwbR Popularity: 69\n",
      "Give: Monkey Wrench a -1 for dislike, 0 for neutral and 1 from like\n",
      "\n",
      "name: The Man >>>>>> link: https://open.spotify.com/track/5aWhs651KYM26HYM16kRdk Popularity: 66\n",
      "Give: The Man a -1 for dislike, 0 for neutral and 1 from like\n",
      "\n",
      "name: Good Riddance (Time of Your Life) >>>>>> link: https://open.spotify.com/track/6ORqU0bHbVCRjXm9AjyHyZ Popularity: 77\n",
      "Give: Good Riddance (Time of Your Life) a -1 for dislike, 0 for neutral and 1 from like\n",
      "\n",
      "name: The Boys Of Summer >>>>>> link: https://open.spotify.com/track/4gvea7UlDkAvsJBPZAd4oB Popularity: 78\n",
      "Give: The Boys Of Summer a -1 for dislike, 0 for neutral and 1 from like\n",
      "\n",
      "name: Break Stuff >>>>>> link: https://open.spotify.com/track/5cZqsjVs6MevCnAkasbEOX Popularity: 75\n",
      "Give: Break Stuff a -1 for dislike, 0 for neutral and 1 from like\n",
      "\n",
      "name: American Girl >>>>>> link: https://open.spotify.com/track/7MRyJPksH3G2cXHN8UKYzP Popularity: 75\n",
      "Give: American Girl a -1 for dislike, 0 for neutral and 1 from like\n",
      "\n",
      "name: Californication >>>>>> link: https://open.spotify.com/track/48UPSzbZjgc449aqz8bxox Popularity: 82\n",
      "Give: Californication a -1 for dislike, 0 for neutral and 1 from like\n",
      "\n",
      "name: Fly Away >>>>>> link: https://open.spotify.com/track/1OxcIUqVmVYxT6427tbhDW Popularity: 72\n",
      "Give: Fly Away a -1 for dislike, 0 for neutral and 1 from like\n",
      "\n"
     ]
    }
   ],
   "source": [
    "def get_recommendation():\n",
    "    market = \"IS\"\n",
    "    seed_artists= \"0MtTfq27LQu7CmE5t308Up\"\n",
    "    seed_genre = \"rock%2Cacoustic\"\n",
    "    seed_tracks = \"6SdIYVgu6HsPPYfRY1XI8Y\"\n",
    "    url = f\"https://api.spotify.com/v1/recommendations?market={market}&seed_artists={seed_artists}&seed_genres={seed_genre}&seed_tracks={seed_tracks}&min_energy=0.4&min_popularity=50\"\n",
    "    responses = requests.get(\n",
    "        url,\n",
    "        headers={\n",
    "            \"Content-Type\": \"application/json\",\n",
    "            \"Authorization\": f\"Bearer {spotify_access_token}\"\n",
    "        }\n",
    "    )\n",
    "    json_resp = responses.json()\n",
    "    #print(json_resp)\n",
    "    len_tracks = len(json_resp['tracks'])\n",
    "    \n",
    "    for item_number in range(len_tracks):\n",
    "        tracks = json_resp['tracks'][item_number]\n",
    "        track_id = tracks['id']\n",
    "        track_name = tracks['name']\n",
    "        track_popularity = tracks['popularity']\n",
    "        track_external_link = tracks['external_urls']['spotify']\n",
    "        \n",
    "        print(\"name: \" + str(track_name) + \n",
    "              \" >>>>>> \" + \"link: \" + str(track_external_link) + \n",
    "              \" Popularity: \" + str(track_popularity))\n",
    "        print(f\"Give: {track_name} a 0 for dislike and 1 from like\\n\")\n",
    "\n",
    "    #print(json.dumps(json_resp, indent = 3))\n",
    "    #return json_resp\n",
    "get_recommendation()"
   ]
  },
  {
   "cell_type": "code",
   "execution_count": null,
   "metadata": {},
   "outputs": [],
   "source": [
    "get_artist(\"0MtTfq27LQu7CmE5t308Up\")"
   ]
  },
  {
   "cell_type": "code",
   "execution_count": null,
   "metadata": {},
   "outputs": [],
   "source": [
    "\n",
    "def get_recommendation_from_artist(artist_id, country_code):\n",
    "    # bubbi_id = 0MtTfq27LQu7CmE5t308Up\n",
    "    # https://developer.spotify.com/console/get-recommendations/\n",
    "    url = f\"https://api.spotify.com/v1/recommendations?market={country_code}&seed_artists={artist_id}\"\n",
    "    responses = requests.get(\n",
    "        url,\n",
    "        headers={\n",
    "            \"Content-Type\": \"application/json\",\n",
    "            \"Authorization\": f\"Bearer {spotify_access_token}\"\n",
    "        }\n",
    "    )\n",
    "    json_resp = responses.json()\n",
    "    #with open(f'data/recommendations_from_{artist_id}.json', 'w') as f:\n",
    "     #   json.dump(json_resp, f, ensure_ascii=False)\n",
    "    #print(json_resp['tracks'][0].keys())\n",
    "\n",
    "    #print(json_resp['tracks'][1])\n",
    "    #return json_resp"
   ]
  },
  {
   "cell_type": "code",
   "execution_count": null,
   "metadata": {},
   "outputs": [],
   "source": [
    "get_recommendation_from_artist(\"0MtTfq27LQu7CmE5t308Up\", \"IS\")"
   ]
  },
  {
   "cell_type": "code",
   "execution_count": null,
   "metadata": {},
   "outputs": [],
   "source": []
  },
  {
   "cell_type": "code",
   "execution_count": null,
   "metadata": {},
   "outputs": [],
   "source": []
  }
 ],
 "metadata": {
  "kernelspec": {
   "display_name": "Python 3",
   "language": "python",
   "name": "python3"
  },
  "language_info": {
   "codemirror_mode": {
    "name": "ipython",
    "version": 3
   },
   "file_extension": ".py",
   "mimetype": "text/x-python",
   "name": "python",
   "nbconvert_exporter": "python",
   "pygments_lexer": "ipython3",
   "version": "3.7.10"
  }
 },
 "nbformat": 4,
 "nbformat_minor": 4
}
