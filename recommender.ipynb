{
 "cells": [
  {
   "cell_type": "code",
   "execution_count": 1,
   "metadata": {},
   "outputs": [],
   "source": [
    "# some code implemented from youtube tutorial from Madhav Thaker\n",
    "# https://github.com/madhavthaker/spotify-recommendation-system"
   ]
  },
  {
   "cell_type": "code",
   "execution_count": 2,
   "metadata": {},
   "outputs": [
    {
     "data": {
      "text/html": [
       "<style>.container { width:95% !important; }</style>"
      ],
      "text/plain": [
       "<IPython.core.display.HTML object>"
      ]
     },
     "metadata": {},
     "output_type": "display_data"
    }
   ],
   "source": [
    "import pandas as pd\n",
    "import numpy as np\n",
    "import json\n",
    "from IPython.display import Image\n",
    "from IPython.core.display import display, HTML\n",
    "import itertools\n",
    "import sys\n",
    "import re\n",
    "import os\n",
    "import matplotlib.pyplot as plt\n",
    "from skimage import io\n",
    "from IPython.display import Image\n",
    "\n",
    "# Spotipy\n",
    "import spotipy\n",
    "from spotipy.oauth2 import SpotifyClientCredentials\n",
    "from spotipy.oauth2 import SpotifyOAuth\n",
    "import spotipy.util as util\n",
    "\n",
    "import warnings\n",
    "warnings.filterwarnings(\"ignore\")\n",
    "\n",
    "%matplotlib inline\n",
    "display(HTML(\"<style>.container { width:95% !important; }</style>\"))\n",
    "pd.set_option('display.max_columns', None)\n",
    "pd.set_option(\"max_rows\", None)\n",
    "\n",
    "url = os.getcwd()"
   ]
  },
  {
   "cell_type": "code",
   "execution_count": 3,
   "metadata": {},
   "outputs": [],
   "source": [
    "from secrets import client_id, client_secret\n",
    "\n",
    "scope = 'user-library-read'\n",
    "\n",
    "if len(sys.argv) > 1:\n",
    "    username = sys.argv[1]\n",
    "else:\n",
    "    print(\"Usage: %s username\" % (sys.argv[0],))\n",
    "    sys.exit()\n",
    "\n",
    "# Spotify access\n",
    "auth_manager = SpotifyClientCredentials(client_id=client_id, client_secret=client_secret)\n",
    "sp = spotipy.Spotify(auth_manager=auth_manager)\n",
    "\n",
    "token = util.prompt_for_user_token(scope, client_id= client_id, client_secret=client_secret, redirect_uri='http://localhost:8881/')\n",
    "sp = spotipy.Spotify(auth=token)\n",
    "\n",
    "\n",
    "spotify_username = sp.current_user()['id']"
   ]
  },
  {
   "cell_type": "code",
   "execution_count": 4,
   "metadata": {},
   "outputs": [],
   "source": [
    "def get_users_playlists():\n",
    "    playlist_names = {}\n",
    "    playlist_photos = {}\n",
    "    \n",
    "    for i in sp.current_user_playlists()['items']:\n",
    "        playlist_names[i['name']] = i['uri'].split(':')[2]\n",
    "        playlist_photos[i['uri'].split(':')[2]] = i['images'][0]['url']\n",
    "    \n",
    "    return playlist_names, playlist_photos\n",
    "\n",
    "# Call get_users_playlists()\n",
    "playlist_names, playlist_photos = get_users_playlists()"
   ]
  },
  {
   "cell_type": "code",
   "execution_count": 5,
   "metadata": {},
   "outputs": [
    {
     "data": {
      "text/plain": [
       "{'New Playlist 2': '5e8ijEDzlaB0y9apSoZNBI',\n",
       " 'Tyler Bates – The Punisher (Original Soundtrack) 2': '3qt3t2qfyWSli9F6C9C3SF',\n",
       " 'Globus – Epicon (UK Version)': '25sJ1ieBzb2AVPS9GaZhKm',\n",
       " 's': '2L0LTJqWOFFI8qPqkDVjKG',\n",
       " 'Immediate – Trailerhead: Triumph': '71DD8rTMqJB4bnFRdS1Jz7',\n",
       " 'Electric Romeo – Immediate': '2aL9qUB2A6vc72I4AwrWlt',\n",
       " 'Highway man': '4thvxQYvACp32gZguRAiEw',\n",
       " 'party mood': '7MIO3PrQ0ZXdPobIpHOc5a',\n",
       " 'Southpaw (Music From And Inspired By The Motion Picture)': '0kF5WxQpwIlFG130bWovut',\n",
       " 'Work Hard, Play Hard – Wiz Khalifa': '1CavHtskIP3Dp0r9RCwXpY',\n",
       " 'From edits': '5Yi5I6uqMn9oyV3RhvUVNm',\n",
       " 'beuty': '7K0flcn5YDOXxPRhChKzre',\n",
       " 'OAZ': '0RVTSPELkBvNXUw27BUC0R',\n",
       " 'Eyeex': '2zqTk2BwhJx4CaqhwZ40RK',\n",
       " 'Icelandic Music | Ragnarsmedia': '2eyFd9OYGYRFG1WknFYfTy',\n",
       " 'Íslenskt': '4jp0RPWEON6B3hbLu6f1N4',\n",
       " 'Grime ': '3VsZqGKOP5E6pcixUKg8zt',\n",
       " 'Ultra 1.0': '0fQrVALjgMV5ckiOG6Lw0u',\n",
       " 'Ultra 2.0': '6N1CYumwsQ6hScprqxmfsL',\n",
       " 'Ultra 3.0': '1thpoCGLWqyLpPMFli6dHD',\n",
       " '21': '3WCO6yNpxaBEtRVTqyor8M',\n",
       " 'Local files 2.0o': '07I8sCyYpU2xDuJVNGXhdo',\n",
       " 'Á Móti Sól – í 10 Ár (The Best Of)': '4SRDPKw004DP3irzdIZeYG',\n",
       " 'Top Workout Songs': '5GBhCQ9cS1g8lrZxO9bg4R',\n",
       " 'Motivational Gym POWERBOOST': '4FEpLl0d2rtSEW1A1oTGzy',\n",
       " 'Beast Mode Rock': '37i9dQZF1DWZYWNM3NfvzJ',\n",
       " 'Adrenaline Workout': '37i9dQZF1DXe6bgV3TmZOL',\n",
       " 'Beast Mode Workout': '6btt3mEVOs8l21eMFSp3HK',\n",
       " 'One More Rep': '37i9dQZF1DX5OUjSS1OMgV',\n",
       " 'Training / Workout Motivation': '4gfcmZSdAZr6x8W1gwNOEw',\n",
       " 'Workout': '1ul94ZwiI43JEFb2P2GCZO',\n",
       " 'Weight Lifting': '6QFTCm0kQ6Ip30dr1VuP8U',\n",
       " 'Run For It!': '1Mh4KGj7TRLiCUzuZSSB3j',\n",
       " 'Haley Reinhart': '0Wni8xSIuOQ6zZMHvl6SEp',\n",
       " 'Marina and the Diamonds – Electra Heart (Deluxe)': '21jbIyJy8oVeAMn6t6xNT2',\n",
       " 'dmar': '6QDr8hrX4PdKeqmLKjbbjK',\n",
       " 'JóiPé – Ananas': '3BC9oheVWrMIOQTU4HcHOR',\n",
       " 'On Fleek': '6j2ZnN1A2xcWQMELm6hcdI',\n",
       " '🔞 Captain of the Party! ': '4Sg8UAlaDXDTcdFnkYGYSJ',\n",
       " 'Summer 2021 🌞 Party Hits 2021 🌞 ': '0va12zjtBfg7S5KfmDlJuZ',\n",
       " 'The Greatest Showman': '3EZKzn6ueALnQ3HgRUSM1d',\n",
       " 'THE SECRET LIFE of WALTER MITTY': '1dJMVuZMXwXJ9BwT6y2FdJ',\n",
       " 'Soundtrack Bad Neighbours:) ': '4xtPDrZ52U1imX4OnkAuMh',\n",
       " 'Starred': '0vthFtQk19q8ZmNecrFdY3',\n",
       " '#ThrowbackThursday': '37i9dQZF1DWWwaxRea1LWS',\n",
       " 'Friday Funday': '37i9dQZF1DX2Psgy8H1wu7',\n",
       " 'Brain Food': '37i9dQZF1DWXLeA8Omikj7',\n",
       " 'Topp 50 – Ísland': '37i9dQZEVXbKMzVsSGQ49S',\n",
       " 'Infinite Acoustic': '37i9dQZF1DX6z20IXmBjWI'}"
      ]
     },
     "execution_count": 5,
     "metadata": {},
     "output_type": "execute_result"
    }
   ],
   "source": [
    "playlist_names"
   ]
  },
  {
   "cell_type": "code",
   "execution_count": null,
   "metadata": {},
   "outputs": [],
   "source": []
  },
  {
   "cell_type": "code",
   "execution_count": null,
   "metadata": {},
   "outputs": [],
   "source": []
  },
  {
   "cell_type": "code",
   "execution_count": 6,
   "metadata": {},
   "outputs": [],
   "source": [
    "def get_playlist_tracks(username,playlist_id):\n",
    "    results = sp.user_playlist_tracks(username,playlist_id)\n",
    "    tracks = results['items']\n",
    "    while results['next']:\n",
    "        results = sp.next(results)\n",
    "        tracks.extend(results['items'])\n",
    "    return tracks"
   ]
  },
  {
   "cell_type": "code",
   "execution_count": 25,
   "metadata": {},
   "outputs": [],
   "source": [
    "def get_track_info(playlist_id,tracks, number):\n",
    "    # Track\n",
    "    track = tracks[number]\n",
    "    added_by = track['added_by']['id']\n",
    "    track_info = track['track']\n",
    "    track_artist = track_info['artists'][0]\n",
    "    track_album = track_info['album']\n",
    "\n",
    "    # Informations about the track\n",
    "    id = track_info['id']\n",
    "    name = track_info['name']\n",
    "    date_added = track['added_at']\n",
    "    explicit = track_info['explicit']\n",
    "    popularity = track_info['popularity']\n",
    "    #print(f\"{id} + {name}\")\n",
    "    if( 'spotify' in track_info):\n",
    "        link = \"\"\n",
    "    else:\n",
    "        link = track_info['external_urls']['spotify']\n",
    "    preview_url = track_info['preview_url']\n",
    "\n",
    "    # Informations about the artists\n",
    "    artist_id = track_artist['id']\n",
    "    artist_name = track_artist['name']\n",
    "    \n",
    "    # get tracks album image\n",
    "    image_url = track_album['images'][1]['url']\n",
    "    \n",
    "    \n",
    "    track_out = {\n",
    "        'playlist_id': playlist_id,\n",
    "        'id': id,\n",
    "        'name': name,\n",
    "        'link': link,\n",
    "        'popularity': popularity,\n",
    "        'image_url': image_url,\n",
    "        'preview_url': preview_url,\n",
    "        'artist_id': artist_id,\n",
    "        'artist_name': artist_name,\n",
    "        'explicit': explicit,\n",
    "        'date_added': date_added,\n",
    "    }\n",
    "    return track_out"
   ]
  },
  {
   "cell_type": "code",
   "execution_count": 26,
   "metadata": {},
   "outputs": [],
   "source": [
    "def specific_playlist_songs(id_playlist):\n",
    "    track_info = []\n",
    "    for playlist_name, playlist_id in playlist_names.items():\n",
    "        if(str(playlist_id) == id_playlist):\n",
    "            tracks = get_playlist_tracks(spotify_username, playlist_id)\n",
    "            for track_number in range(0, len(tracks)):\n",
    "                track_info.append(get_track_info(playlist_id, tracks, track_number))\n",
    "    return pd.DataFrame(track_info)\n",
    "\n",
    "def get_all_playlist_songs():\n",
    "    track_info = []\n",
    "    for playlist_name, playlist_id in playlist_names.items():\n",
    "        tracks = get_playlist_tracks(spotify_username, playlist_id)\n",
    "        for track_number in range(0, len(tracks)):\n",
    "            track_info.append(get_track_info(playlist_id, tracks, track_number))\n",
    "    return pd.DataFrame(track_info)    \n"
   ]
  },
  {
   "cell_type": "code",
   "execution_count": 28,
   "metadata": {},
   "outputs": [
    {
     "name": "stdout",
     "output_type": "stream",
     "text": [
      "dict_keys(['album', 'artists', 'available_markets', 'disc_number', 'duration_ms', 'episode', 'explicit', 'external_ids', 'external_urls', 'href', 'id', 'is_local', 'name', 'popularity', 'preview_url', 'track', 'track_number', 'type', 'uri'])\n",
      "dict_keys(['album', 'artists', 'available_markets', 'disc_number', 'duration_ms', 'episode', 'explicit', 'external_ids', 'external_urls', 'href', 'id', 'is_local', 'name', 'popularity', 'preview_url', 'track', 'track_number', 'type', 'uri'])\n",
      "dict_keys(['album', 'artists', 'available_markets', 'disc_number', 'duration_ms', 'episode', 'explicit', 'external_ids', 'external_urls', 'href', 'id', 'is_local', 'name', 'popularity', 'preview_url', 'track', 'track_number', 'type', 'uri'])\n",
      "dict_keys(['album', 'artists', 'available_markets', 'disc_number', 'duration_ms', 'episode', 'explicit', 'external_ids', 'external_urls', 'href', 'id', 'is_local', 'name', 'popularity', 'preview_url', 'track', 'track_number', 'type', 'uri'])\n",
      "dict_keys(['album', 'artists', 'available_markets', 'disc_number', 'duration_ms', 'episode', 'explicit', 'external_ids', 'external_urls', 'href', 'id', 'is_local', 'name', 'popularity', 'preview_url', 'track', 'track_number', 'type', 'uri'])\n",
      "dict_keys(['album', 'artists', 'available_markets', 'disc_number', 'duration_ms', 'episode', 'explicit', 'external_ids', 'external_urls', 'href', 'id', 'is_local', 'name', 'popularity', 'preview_url', 'track', 'track_number', 'type', 'uri'])\n",
      "dict_keys(['album', 'artists', 'available_markets', 'disc_number', 'duration_ms', 'episode', 'explicit', 'external_ids', 'external_urls', 'href', 'id', 'is_local', 'name', 'popularity', 'preview_url', 'track', 'track_number', 'type', 'uri'])\n",
      "dict_keys(['album', 'artists', 'available_markets', 'disc_number', 'duration_ms', 'episode', 'explicit', 'external_ids', 'external_urls', 'href', 'id', 'is_local', 'name', 'popularity', 'preview_url', 'track', 'track_number', 'type', 'uri'])\n",
      "dict_keys(['album', 'artists', 'available_markets', 'disc_number', 'duration_ms', 'episode', 'explicit', 'external_ids', 'external_urls', 'href', 'id', 'is_local', 'name', 'popularity', 'preview_url', 'track', 'track_number', 'type', 'uri'])\n",
      "dict_keys(['album', 'artists', 'available_markets', 'disc_number', 'duration_ms', 'episode', 'explicit', 'external_ids', 'external_urls', 'href', 'id', 'is_local', 'name', 'popularity', 'preview_url', 'track', 'track_number', 'type', 'uri'])\n",
      "dict_keys(['album', 'artists', 'available_markets', 'disc_number', 'duration_ms', 'episode', 'explicit', 'external_ids', 'external_urls', 'href', 'id', 'is_local', 'name', 'popularity', 'preview_url', 'track', 'track_number', 'type', 'uri'])\n",
      "dict_keys(['album', 'artists', 'available_markets', 'disc_number', 'duration_ms', 'episode', 'explicit', 'external_ids', 'external_urls', 'href', 'id', 'is_local', 'name', 'popularity', 'preview_url', 'track', 'track_number', 'type', 'uri'])\n",
      "dict_keys(['album', 'artists', 'available_markets', 'disc_number', 'duration_ms', 'episode', 'explicit', 'external_ids', 'external_urls', 'href', 'id', 'is_local', 'name', 'popularity', 'preview_url', 'track', 'track_number', 'type', 'uri'])\n",
      "dict_keys(['album', 'artists', 'available_markets', 'disc_number', 'duration_ms', 'episode', 'explicit', 'external_ids', 'external_urls', 'href', 'id', 'is_local', 'name', 'popularity', 'preview_url', 'track', 'track_number', 'type', 'uri'])\n",
      "dict_keys(['album', 'artists', 'available_markets', 'disc_number', 'duration_ms', 'episode', 'explicit', 'external_ids', 'external_urls', 'href', 'id', 'is_local', 'name', 'popularity', 'preview_url', 'track', 'track_number', 'type', 'uri'])\n",
      "dict_keys(['album', 'artists', 'available_markets', 'disc_number', 'duration_ms', 'episode', 'explicit', 'external_ids', 'external_urls', 'href', 'id', 'is_local', 'name', 'popularity', 'preview_url', 'track', 'track_number', 'type', 'uri'])\n",
      "dict_keys(['album', 'artists', 'available_markets', 'disc_number', 'duration_ms', 'episode', 'explicit', 'external_ids', 'external_urls', 'href', 'id', 'is_local', 'name', 'popularity', 'preview_url', 'track', 'track_number', 'type', 'uri'])\n",
      "dict_keys(['album', 'artists', 'available_markets', 'disc_number', 'duration_ms', 'episode', 'explicit', 'external_ids', 'external_urls', 'href', 'id', 'is_local', 'name', 'popularity', 'preview_url', 'track', 'track_number', 'type', 'uri'])\n",
      "dict_keys(['album', 'artists', 'available_markets', 'disc_number', 'duration_ms', 'episode', 'explicit', 'external_ids', 'external_urls', 'href', 'id', 'is_local', 'name', 'popularity', 'preview_url', 'track', 'track_number', 'type', 'uri'])\n",
      "dict_keys(['album', 'artists', 'available_markets', 'disc_number', 'duration_ms', 'episode', 'explicit', 'external_ids', 'external_urls', 'href', 'id', 'is_local', 'name', 'popularity', 'preview_url', 'track', 'track_number', 'type', 'uri'])\n",
      "dict_keys(['album', 'artists', 'available_markets', 'disc_number', 'duration_ms', 'episode', 'explicit', 'external_ids', 'external_urls', 'href', 'id', 'is_local', 'name', 'popularity', 'preview_url', 'track', 'track_number', 'type', 'uri'])\n",
      "dict_keys(['album', 'artists', 'available_markets', 'disc_number', 'duration_ms', 'episode', 'explicit', 'external_ids', 'external_urls', 'href', 'id', 'is_local', 'name', 'popularity', 'preview_url', 'track', 'track_number', 'type', 'uri'])\n",
      "dict_keys(['album', 'artists', 'available_markets', 'disc_number', 'duration_ms', 'episode', 'explicit', 'external_ids', 'external_urls', 'href', 'id', 'is_local', 'name', 'popularity', 'preview_url', 'track', 'track_number', 'type', 'uri'])\n",
      "dict_keys(['album', 'artists', 'available_markets', 'disc_number', 'duration_ms', 'episode', 'explicit', 'external_ids', 'external_urls', 'href', 'id', 'is_local', 'name', 'popularity', 'preview_url', 'track', 'track_number', 'type', 'uri'])\n",
      "dict_keys(['album', 'artists', 'available_markets', 'disc_number', 'duration_ms', 'episode', 'explicit', 'external_ids', 'external_urls', 'href', 'id', 'is_local', 'name', 'popularity', 'preview_url', 'track', 'track_number', 'type', 'uri'])\n",
      "dict_keys(['album', 'artists', 'available_markets', 'disc_number', 'duration_ms', 'episode', 'explicit', 'external_ids', 'external_urls', 'href', 'id', 'is_local', 'name', 'popularity', 'preview_url', 'track', 'track_number', 'type', 'uri'])\n",
      "dict_keys(['album', 'artists', 'available_markets', 'disc_number', 'duration_ms', 'episode', 'explicit', 'external_ids', 'external_urls', 'href', 'id', 'is_local', 'name', 'popularity', 'preview_url', 'track', 'track_number', 'type', 'uri'])\n",
      "dict_keys(['album', 'artists', 'available_markets', 'disc_number', 'duration_ms', 'episode', 'explicit', 'external_ids', 'external_urls', 'href', 'id', 'is_local', 'name', 'popularity', 'preview_url', 'track', 'track_number', 'type', 'uri'])\n",
      "dict_keys(['album', 'artists', 'available_markets', 'disc_number', 'duration_ms', 'episode', 'explicit', 'external_ids', 'external_urls', 'href', 'id', 'is_local', 'name', 'popularity', 'preview_url', 'track', 'track_number', 'type', 'uri'])\n",
      "dict_keys(['album', 'artists', 'available_markets', 'disc_number', 'duration_ms', 'episode', 'explicit', 'external_ids', 'external_urls', 'href', 'id', 'is_local', 'name', 'popularity', 'preview_url', 'track', 'track_number', 'type', 'uri'])\n",
      "dict_keys(['album', 'artists', 'available_markets', 'disc_number', 'duration_ms', 'episode', 'explicit', 'external_ids', 'external_urls', 'href', 'id', 'is_local', 'name', 'popularity', 'preview_url', 'track', 'track_number', 'type', 'uri'])\n",
      "dict_keys(['album', 'artists', 'available_markets', 'disc_number', 'duration_ms', 'episode', 'explicit', 'external_ids', 'external_urls', 'href', 'id', 'is_local', 'name', 'popularity', 'preview_url', 'track', 'track_number', 'type', 'uri'])\n",
      "dict_keys(['album', 'artists', 'available_markets', 'disc_number', 'duration_ms', 'episode', 'explicit', 'external_ids', 'external_urls', 'href', 'id', 'is_local', 'name', 'popularity', 'preview_url', 'track', 'track_number', 'type', 'uri'])\n",
      "dict_keys(['album', 'artists', 'available_markets', 'disc_number', 'duration_ms', 'episode', 'explicit', 'external_ids', 'external_urls', 'href', 'id', 'is_local', 'name', 'popularity', 'preview_url', 'track', 'track_number', 'type', 'uri'])\n",
      "dict_keys(['album', 'artists', 'available_markets', 'disc_number', 'duration_ms', 'episode', 'explicit', 'external_ids', 'external_urls', 'href', 'id', 'is_local', 'name', 'popularity', 'preview_url', 'track', 'track_number', 'type', 'uri'])\n",
      "dict_keys(['album', 'artists', 'available_markets', 'disc_number', 'duration_ms', 'episode', 'explicit', 'external_ids', 'external_urls', 'href', 'id', 'is_local', 'name', 'popularity', 'preview_url', 'track', 'track_number', 'type', 'uri'])\n",
      "dict_keys(['album', 'artists', 'available_markets', 'disc_number', 'duration_ms', 'episode', 'explicit', 'external_ids', 'external_urls', 'href', 'id', 'is_local', 'name', 'popularity', 'preview_url', 'track', 'track_number', 'type', 'uri'])\n",
      "dict_keys(['album', 'artists', 'available_markets', 'disc_number', 'duration_ms', 'episode', 'explicit', 'external_ids', 'external_urls', 'href', 'id', 'is_local', 'name', 'popularity', 'preview_url', 'track', 'track_number', 'type', 'uri'])\n",
      "dict_keys(['album', 'artists', 'available_markets', 'disc_number', 'duration_ms', 'episode', 'explicit', 'external_ids', 'external_urls', 'href', 'id', 'is_local', 'name', 'popularity', 'preview_url', 'track', 'track_number', 'type', 'uri'])\n"
     ]
    }
   ],
   "source": [
    "from_edits_playlist = specific_playlist_songs(\"5Yi5I6uqMn9oyV3RhvUVNm\")\n",
    "from_isx_playlist = specific_playlist_songs(\"4jp0RPWEON6B3hbLu6f1N4\")\n",
    "\n",
    "#from_edits_playlist"
   ]
  },
  {
   "cell_type": "code",
   "execution_count": null,
   "metadata": {},
   "outputs": [],
   "source": []
  },
  {
   "cell_type": "code",
   "execution_count": null,
   "metadata": {},
   "outputs": [],
   "source": [
    "from skimage import io\n",
    "import matplotlib.pyplot as plt\n",
    "\n",
    "def cover_songs(df):\n",
    "    \"\"\" \n",
    "    Visualize cover art of the songs in the inputted dataframe\n",
    "\n",
    "    Parameters: \n",
    "        df (pandas dataframe): Playlist Dataframe\n",
    "    \"\"\"\n",
    "    \n",
    "    image_url = df['image_url'].values\n",
    "    plt.figure(figsize=(15,int(0.625 * len(image_url))))\n",
    "    columns = 5\n",
    "    \n",
    "    for i, url in enumerate(image_url):\n",
    "        plt.subplot(len(image_url) / columns + 1, columns, i + 1)\n",
    "\n",
    "        image = io.imread(url)\n",
    "        plt.imshow(image)\n",
    "        plt.xticks(color = 'w', fontsize = 0.1)\n",
    "        plt.yticks(color = 'w', fontsize = 0.1)\n",
    "        plt.xlabel(df['name'].values[i], fontsize = 12)\n",
    "        plt.tight_layout(h_pad=0.4, w_pad=0)\n",
    "        plt.subplots_adjust(wspace=None, hspace=None)\n",
    "\n",
    "    plt.show()"
   ]
  },
  {
   "cell_type": "code",
   "execution_count": null,
   "metadata": {},
   "outputs": [],
   "source": [
    "cover_songs(from_edits_playlist)"
   ]
  },
  {
   "cell_type": "code",
   "execution_count": null,
   "metadata": {},
   "outputs": [],
   "source": [
    "cover_songs(from_isx_playlist)"
   ]
  },
  {
   "cell_type": "code",
   "execution_count": null,
   "metadata": {},
   "outputs": [],
   "source": []
  },
  {
   "cell_type": "code",
   "execution_count": null,
   "metadata": {},
   "outputs": [],
   "source": []
  },
  {
   "cell_type": "code",
   "execution_count": null,
   "metadata": {},
   "outputs": [],
   "source": []
  },
  {
   "cell_type": "code",
   "execution_count": null,
   "metadata": {},
   "outputs": [],
   "source": []
  },
  {
   "cell_type": "code",
   "execution_count": null,
   "metadata": {},
   "outputs": [],
   "source": [
    "## show all recommendations"
   ]
  },
  {
   "cell_type": "code",
   "execution_count": null,
   "metadata": {},
   "outputs": [],
   "source": [
    "## show bad recommendations (low popularity)"
   ]
  },
  {
   "cell_type": "code",
   "execution_count": null,
   "metadata": {},
   "outputs": [],
   "source": [
    "## show good recommendations (high popularity)"
   ]
  }
 ],
 "metadata": {
  "kernelspec": {
   "display_name": "Python 3",
   "language": "python",
   "name": "python3"
  },
  "language_info": {
   "codemirror_mode": {
    "name": "ipython",
    "version": 3
   },
   "file_extension": ".py",
   "mimetype": "text/x-python",
   "name": "python",
   "nbconvert_exporter": "python",
   "pygments_lexer": "ipython3",
   "version": "3.7.10"
  }
 },
 "nbformat": 4,
 "nbformat_minor": 4
}
