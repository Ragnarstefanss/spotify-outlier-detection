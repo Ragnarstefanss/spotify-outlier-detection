{
 "cells": [
  {
   "cell_type": "code",
   "execution_count": 1,
   "metadata": {},
   "outputs": [],
   "source": [
    "# some code implemented from youtube tutorial from Madhav Thaker\n",
    "# https://github.com/madhavthaker/spotify-recommendation-system"
   ]
  },
  {
   "cell_type": "code",
   "execution_count": 2,
   "metadata": {},
   "outputs": [
    {
     "data": {
      "text/html": [
       "<style>.container { width:95% !important; }</style>"
      ],
      "text/plain": [
       "<IPython.core.display.HTML object>"
      ]
     },
     "metadata": {},
     "output_type": "display_data"
    }
   ],
   "source": [
    "import pandas as pd\n",
    "import numpy as np\n",
    "import json\n",
    "from IPython.display import Image\n",
    "from IPython.core.display import display, HTML\n",
    "import itertools\n",
    "import sys\n",
    "import re\n",
    "import os\n",
    "import matplotlib.pyplot as plt\n",
    "from skimage import io\n",
    "from IPython.display import Image\n",
    "\n",
    "\n",
    "# Spotipy\n",
    "import spotipy\n",
    "from spotipy.oauth2 import SpotifyClientCredentials\n",
    "from spotipy.oauth2 import SpotifyOAuth\n",
    "import spotipy.util as util\n",
    "\n",
    "import warnings\n",
    "warnings.filterwarnings(\"ignore\")\n",
    "\n",
    "%matplotlib inline\n",
    "display(HTML(\"<style>.container { width:95% !important; }</style>\"))\n",
    "pd.set_option('display.max_columns', None)\n",
    "pd.set_option(\"max_rows\", None)\n",
    "\n",
    "#prediction\n",
    "from sklearn.model_selection import train_test_split\n",
    "from sklearn.pipeline import make_pipeline\n",
    "from sklearn.svm import OneClassSVM\n",
    "from sklearn.preprocessing import StandardScaler\n",
    "from sklearn.neighbors import NearestNeighbors\n",
    "\n",
    "url = os.getcwd()"
   ]
  },
  {
   "cell_type": "code",
   "execution_count": null,
   "metadata": {},
   "outputs": [],
   "source": []
  },
  {
   "cell_type": "markdown",
   "metadata": {},
   "source": [
    "## Extra"
   ]
  },
  {
   "cell_type": "code",
   "execution_count": 3,
   "metadata": {},
   "outputs": [],
   "source": [
    "from secrets import client_id, client_secret\n",
    "\n",
    "scope = 'user-library-read'\n",
    "\n",
    "if len(sys.argv) > 1:\n",
    "    username = sys.argv[1]\n",
    "else:\n",
    "    print(\"Usage: %s username\" % (sys.argv[0],))\n",
    "    sys.exit()\n",
    "\n",
    "# Spotify access\n",
    "auth_manager = SpotifyClientCredentials(client_id=client_id, client_secret=client_secret)\n",
    "sp = spotipy.Spotify(auth_manager=auth_manager)\n",
    "\n",
    "token = util.prompt_for_user_token(scope, client_id= client_id, client_secret=client_secret, redirect_uri='http://localhost:8881/')\n",
    "sp = spotipy.Spotify(auth=token)\n",
    "spotify_username = sp.current_user()['id']"
   ]
  },
  {
   "cell_type": "code",
   "execution_count": 4,
   "metadata": {},
   "outputs": [],
   "source": [
    "# display function that was show in a youtube tutorial from Madhav Thaker\n",
    "def cover_songs(df):\n",
    "    image_url = df['image_url'].values\n",
    "    plt.figure(figsize=(15,int(0.625 * len(image_url))))\n",
    "    columns = 5\n",
    "    \n",
    "    for i, url in enumerate(image_url):\n",
    "        plt.subplot(len(image_url) / columns + 1, columns, i + 1)\n",
    "\n",
    "        image = io.imread(url)\n",
    "        plt.imshow(image)\n",
    "        plt.xticks(color = 'w', fontsize = 0.1)\n",
    "        plt.yticks(color = 'w', fontsize = 0.1)\n",
    "        plt.xlabel(df['name'].values[i], fontsize = 12)\n",
    "        plt.tight_layout(h_pad=0.4, w_pad=0)\n",
    "        plt.subplots_adjust(wspace=None, hspace=None)\n",
    "\n",
    "    plt.show()"
   ]
  },
  {
   "cell_type": "code",
   "execution_count": null,
   "metadata": {},
   "outputs": [],
   "source": []
  },
  {
   "cell_type": "markdown",
   "metadata": {},
   "source": [
    "## Gathering data"
   ]
  },
  {
   "cell_type": "code",
   "execution_count": 5,
   "metadata": {},
   "outputs": [
    {
     "data": {
      "text/plain": [
       "{'New Playlist 2': '5e8ijEDzlaB0y9apSoZNBI',\n",
       " 'Tyler Bates – The Punisher (Original Soundtrack) 2': '3qt3t2qfyWSli9F6C9C3SF',\n",
       " 'Globus – Epicon (UK Version)': '25sJ1ieBzb2AVPS9GaZhKm',\n",
       " 's': '2L0LTJqWOFFI8qPqkDVjKG',\n",
       " 'Immediate – Trailerhead: Triumph': '71DD8rTMqJB4bnFRdS1Jz7',\n",
       " 'Electric Romeo – Immediate': '2aL9qUB2A6vc72I4AwrWlt',\n",
       " 'Highway man': '4thvxQYvACp32gZguRAiEw',\n",
       " 'party mood': '7MIO3PrQ0ZXdPobIpHOc5a',\n",
       " 'Southpaw (Music From And Inspired By The Motion Picture)': '0kF5WxQpwIlFG130bWovut',\n",
       " 'Work Hard, Play Hard – Wiz Khalifa': '1CavHtskIP3Dp0r9RCwXpY',\n",
       " 'From edits': '5Yi5I6uqMn9oyV3RhvUVNm',\n",
       " 'beuty': '7K0flcn5YDOXxPRhChKzre',\n",
       " 'OAZ': '0RVTSPELkBvNXUw27BUC0R',\n",
       " 'Eyeex': '2zqTk2BwhJx4CaqhwZ40RK',\n",
       " 'Icelandic Music | Ragnarsmedia': '2eyFd9OYGYRFG1WknFYfTy',\n",
       " 'Íslenskt': '4jp0RPWEON6B3hbLu6f1N4',\n",
       " 'Grime ': '3VsZqGKOP5E6pcixUKg8zt',\n",
       " 'Ultra 1.0': '0fQrVALjgMV5ckiOG6Lw0u',\n",
       " 'Ultra 2.0': '6N1CYumwsQ6hScprqxmfsL',\n",
       " 'Ultra 3.0': '1thpoCGLWqyLpPMFli6dHD',\n",
       " '21': '3WCO6yNpxaBEtRVTqyor8M',\n",
       " 'Local files 2.0o': '07I8sCyYpU2xDuJVNGXhdo',\n",
       " 'Á Móti Sól – í 10 Ár (The Best Of)': '4SRDPKw004DP3irzdIZeYG',\n",
       " 'Top Workout Songs': '5GBhCQ9cS1g8lrZxO9bg4R',\n",
       " 'Motivational Gym POWERBOOST': '4FEpLl0d2rtSEW1A1oTGzy',\n",
       " 'Beast Mode Rock': '37i9dQZF1DWZYWNM3NfvzJ',\n",
       " 'Adrenaline Workout': '37i9dQZF1DXe6bgV3TmZOL',\n",
       " 'Beast Mode Workout': '6btt3mEVOs8l21eMFSp3HK',\n",
       " 'One More Rep': '37i9dQZF1DX5OUjSS1OMgV',\n",
       " 'Training / Workout Motivation': '4gfcmZSdAZr6x8W1gwNOEw',\n",
       " 'Workout': '1ul94ZwiI43JEFb2P2GCZO',\n",
       " 'Weight Lifting': '6QFTCm0kQ6Ip30dr1VuP8U',\n",
       " 'Run For It!': '1Mh4KGj7TRLiCUzuZSSB3j',\n",
       " 'Haley Reinhart': '0Wni8xSIuOQ6zZMHvl6SEp',\n",
       " 'Marina and the Diamonds – Electra Heart (Deluxe)': '21jbIyJy8oVeAMn6t6xNT2',\n",
       " 'dmar': '6QDr8hrX4PdKeqmLKjbbjK',\n",
       " 'JóiPé – Ananas': '3BC9oheVWrMIOQTU4HcHOR',\n",
       " 'On Fleek': '6j2ZnN1A2xcWQMELm6hcdI',\n",
       " '🔞 Captain of the Party! ': '4Sg8UAlaDXDTcdFnkYGYSJ',\n",
       " 'Summer 2021 🌞 Party Hits 2021 🌞 ': '0va12zjtBfg7S5KfmDlJuZ',\n",
       " 'The Greatest Showman': '3EZKzn6ueALnQ3HgRUSM1d',\n",
       " 'THE SECRET LIFE of WALTER MITTY': '1dJMVuZMXwXJ9BwT6y2FdJ',\n",
       " 'Soundtrack Bad Neighbours:) ': '4xtPDrZ52U1imX4OnkAuMh',\n",
       " 'Starred': '0vthFtQk19q8ZmNecrFdY3',\n",
       " 'Throwback Thursday': '37i9dQZF1DWWwaxRea1LWS',\n",
       " 'Friday Funday': '37i9dQZF1DX2Psgy8H1wu7',\n",
       " 'Brain Food': '37i9dQZF1DWXLeA8Omikj7',\n",
       " 'Topp 50 – Ísland': '37i9dQZEVXbKMzVsSGQ49S',\n",
       " 'Infinite Acoustic': '37i9dQZF1DX6z20IXmBjWI'}"
      ]
     },
     "execution_count": 5,
     "metadata": {},
     "output_type": "execute_result"
    }
   ],
   "source": [
    "def get_users_playlists():\n",
    "    playlist_names = {}\n",
    "    playlist_photos = {}\n",
    "    \n",
    "    for i in sp.current_user_playlists()['items']:\n",
    "        playlist_names[i['name']] = i['uri'].split(':')[2]\n",
    "        playlist_photos[i['uri'].split(':')[2]] = i['images'][0]['url']\n",
    "    \n",
    "    return playlist_names, playlist_photos\n",
    "\n",
    "# Call get_users_playlists()\n",
    "playlist_names, playlist_photos = get_users_playlists()\n",
    "\n",
    "# Here are all your playlist, copy the playlist id you want to choose songs from\n",
    "playlist_names"
   ]
  },
  {
   "cell_type": "code",
   "execution_count": 6,
   "metadata": {},
   "outputs": [],
   "source": [
    "def get_playlist_tracks(username,playlist_id):\n",
    "    results = sp.user_playlist_tracks(username,playlist_id)\n",
    "    tracks = results['items']\n",
    "    while results['next']:\n",
    "        results = sp.next(results)\n",
    "        tracks.extend(results['items'])\n",
    "    return tracks"
   ]
  },
  {
   "cell_type": "code",
   "execution_count": 7,
   "metadata": {},
   "outputs": [
    {
     "data": {
      "text/plain": [
       "[{'danceability': 0.693,\n",
       "  'energy': 0.646,\n",
       "  'key': 7,\n",
       "  'loudness': -6.484,\n",
       "  'mode': 1,\n",
       "  'speechiness': 0.0313,\n",
       "  'acousticness': 0.0602,\n",
       "  'instrumentalness': 0.00132,\n",
       "  'liveness': 0.678,\n",
       "  'valence': 0.89,\n",
       "  'tempo': 145.116,\n",
       "  'type': 'audio_features',\n",
       "  'id': '17DjxJJG1NHXg1VatxfFfU',\n",
       "  'uri': 'spotify:track:17DjxJJG1NHXg1VatxfFfU',\n",
       "  'track_href': 'https://api.spotify.com/v1/tracks/17DjxJJG1NHXg1VatxfFfU',\n",
       "  'analysis_url': 'https://api.spotify.com/v1/audio-analysis/17DjxJJG1NHXg1VatxfFfU',\n",
       "  'duration_ms': 222320,\n",
       "  'time_signature': 4}]"
      ]
     },
     "execution_count": 7,
     "metadata": {},
     "output_type": "execute_result"
    }
   ],
   "source": [
    "## Song Audio Features\n",
    "sp.audio_features(\"17DjxJJG1NHXg1VatxfFfU\")"
   ]
  },
  {
   "cell_type": "code",
   "execution_count": 8,
   "metadata": {},
   "outputs": [],
   "source": [
    "## Song Audio Features\n",
    "#sp.audio_features(\"17DjxJJG1NHXg1VatxfFfU\")\n",
    "def get_track_features(track_id):\n",
    "    audio_features = sp.audio_features(track_id)[0]\n",
    "    track_out = {\n",
    "        'acousticness': audio_features['acousticness'],\n",
    "        'danceability': audio_features['danceability'],\n",
    "        'duration_ms': audio_features['duration_ms'],\n",
    "        'energy': audio_features['energy'],\n",
    "        'instrumentalness': audio_features['instrumentalness'],\n",
    "        'liveness': audio_features['liveness'],\n",
    "        'loudness': audio_features['loudness'],\n",
    "        'mode': audio_features['mode'],\n",
    "        'speechiness': audio_features['speechiness'],\n",
    "        'tempo': audio_features['tempo'],\n",
    "        'valence': audio_features['valence']\n",
    "    }\n",
    "    return track_out"
   ]
  },
  {
   "cell_type": "code",
   "execution_count": 9,
   "metadata": {},
   "outputs": [],
   "source": [
    "def get_track_info(playlist_id, tracks, number):\n",
    "    # Track\n",
    "    track = tracks[number]\n",
    "    added_by = track['added_by']['id']\n",
    "    track_info = track['track']\n",
    "    track_artist = track_info['artists'][0]\n",
    "    track_album = track_info['album']\n",
    "\n",
    "    # Informations about the track\n",
    "    id = track_info['id']\n",
    "    name = track_info['name']\n",
    "    date_added = track['added_at']\n",
    "    explicit = track_info['explicit']\n",
    "    popularity = track_info['popularity']\n",
    "    link = track_info['external_urls']['spotify']\n",
    "    preview_url = track_info['preview_url']\n",
    "    image_url = track_album['images'][1]['url']\n",
    "    release_date = track_album[\"release_date\"]\n",
    "    \n",
    "    # Informations about the artists\n",
    "    artist_id = track_artist['id']\n",
    "    artist_name = track_artist['name']\n",
    "    \n",
    "    ## audio features\n",
    "    audio_features = sp.audio_features(id)[0]\n",
    "    #print(audio_features)\n",
    "    #track_features = get_track_features(id) \n",
    "    \n",
    "    album_genres = sp.album(track_album['id'])\n",
    "    #print(\"album genres:\", album_genres)\n",
    "    \n",
    "    #'playlist_id': playlist_id,\n",
    "    #'date_added': date_added,\n",
    "    track_out = {\n",
    "        'id': id,\n",
    "        'name': name,\n",
    "        'link': link,\n",
    "        'popularity': popularity,\n",
    "        'image_url': image_url,\n",
    "        'preview_url': preview_url,\n",
    "        'artist_id': artist_id,\n",
    "        'artist_name': artist_name,\n",
    "        'explicit': explicit,\n",
    "        'release_date': release_date,\n",
    "        'acousticness': audio_features['acousticness'],\n",
    "        'danceability': audio_features['danceability'],\n",
    "        'duration_ms': audio_features['duration_ms'],\n",
    "        'energy': audio_features['energy'],\n",
    "        'instrumentalness': audio_features['instrumentalness'],\n",
    "        'liveness': audio_features['liveness'],\n",
    "        'loudness': audio_features['loudness'],\n",
    "        'mode': audio_features['mode'],\n",
    "        'speechiness': audio_features['speechiness'],\n",
    "        'tempo': audio_features['tempo'],\n",
    "        'valence': audio_features['valence']\n",
    "    }\n",
    "\n",
    "    return track_out\n",
    " \n",
    "#genre_seeds = sp.recommendation_genre_seeds()\n",
    "#genres = genre_seeds['genres']\n",
    "\n",
    "#test_track_info = specific_playlist_songs(\"5Yi5I6uqMn9oyV3RhvUVNm\")\n",
    "#test_track_info"
   ]
  },
  {
   "cell_type": "code",
   "execution_count": 10,
   "metadata": {},
   "outputs": [],
   "source": [
    "def specific_playlist_songs(id_playlist):\n",
    "    track_info = []\n",
    "    for playlist_name, playlist_id in playlist_names.items():\n",
    "        if(str(playlist_id) == id_playlist):\n",
    "            tracks = get_playlist_tracks(spotify_username, playlist_id)\n",
    "            for track_number in range(0, len(tracks)):\n",
    "                track_info.append(get_track_info(playlist_id, tracks, track_number))\n",
    "    return pd.DataFrame(track_info)"
   ]
  },
  {
   "cell_type": "code",
   "execution_count": 11,
   "metadata": {},
   "outputs": [
    {
     "data": {
      "text/plain": [
       "' \\n## I never finished implementing this function: \\n## Maybe future work\\ndef get_all_playlist_songs():\\n    track_info = []\\n    for playlist_name, playlist_id in playlist_names.items():\\n        tracks = get_playlist_tracks(spotify_username, playlist_id)\\n        for track_number in range(0, len(tracks)):\\n            track_info.append(get_track_info(playlist_id, tracks, track_number))\\n    return pd.DataFrame(track_info)    \\n'"
      ]
     },
     "execution_count": 11,
     "metadata": {},
     "output_type": "execute_result"
    }
   ],
   "source": [
    "''' \n",
    "## I never finished implementing this function: \n",
    "## Maybe future work\n",
    "def get_all_playlist_songs():\n",
    "    track_info = []\n",
    "    for playlist_name, playlist_id in playlist_names.items():\n",
    "        tracks = get_playlist_tracks(spotify_username, playlist_id)\n",
    "        for track_number in range(0, len(tracks)):\n",
    "            track_info.append(get_track_info(playlist_id, tracks, track_number))\n",
    "    return pd.DataFrame(track_info)    \n",
    "'''"
   ]
  },
  {
   "cell_type": "code",
   "execution_count": 12,
   "metadata": {},
   "outputs": [],
   "source": [
    "## Creating playlist tracks\n",
    "from_edits_playlist = specific_playlist_songs(\"5Yi5I6uqMn9oyV3RhvUVNm\")\n",
    "from_isx_playlist = specific_playlist_songs(\"4jp0RPWEON6B3hbLu6f1N4\")\n",
    "\n",
    "# Change here for your playlist id\n",
    "#custom = specific_playlist_songs(\"0RVTSPELkBvNXUw27BUC0R\")"
   ]
  },
  {
   "cell_type": "code",
   "execution_count": null,
   "metadata": {},
   "outputs": [],
   "source": [
    "from_oaz = specific_playlist_songs(\"0RVTSPELkBvNXUw27BUC0R\")"
   ]
  },
  {
   "cell_type": "markdown",
   "metadata": {},
   "source": [
    "## Visualize the data"
   ]
  },
  {
   "cell_type": "code",
   "execution_count": null,
   "metadata": {},
   "outputs": [],
   "source": [
    "## Uncomment to visually see the dataframe\n",
    "#from_edits_playlist\n",
    "#from_edits_playlist\n",
    "#beuty\n",
    "#custom"
   ]
  },
  {
   "cell_type": "code",
   "execution_count": null,
   "metadata": {},
   "outputs": [],
   "source": [
    "cover_songs(from_edits_playlist)\n",
    "#cover_songs(from_oaz)"
   ]
  },
  {
   "cell_type": "code",
   "execution_count": null,
   "metadata": {},
   "outputs": [],
   "source": [
    "cover_songs(from_isx_playlist)"
   ]
  },
  {
   "cell_type": "code",
   "execution_count": null,
   "metadata": {},
   "outputs": [],
   "source": [
    "## from_oaz.head()"
   ]
  },
  {
   "cell_type": "markdown",
   "metadata": {},
   "source": [
    "## Predicting data"
   ]
  },
  {
   "cell_type": "code",
   "execution_count": null,
   "metadata": {},
   "outputs": [],
   "source": [
    "def create_clean_copy(df):\n",
    "    df[\"year\"] = df['release_date'].apply(lambda x: x.split('-')[0])\n",
    "    df = df.drop(columns = ['duration_ms', 'link', 'image_url', 'preview_url', 'artist_id', 'artist_name', 'release_date'])\n",
    "    return df"
   ]
  },
  {
   "cell_type": "code",
   "execution_count": null,
   "metadata": {},
   "outputs": [],
   "source": [
    "# change original_playlist = to the dataframe you want to use\n",
    "original_playlist = from_oaz\n",
    "clean_playlist = create_clean_copy(original_playlist)"
   ]
  },
  {
   "cell_type": "code",
   "execution_count": null,
   "metadata": {},
   "outputs": [],
   "source": [
    "clean_playlist"
   ]
  },
  {
   "cell_type": "code",
   "execution_count": null,
   "metadata": {},
   "outputs": [],
   "source": [
    "def display_outlier_data(clean_playlist, count, y_test):\n",
    "    print(\"total songs in playlist: \" + str(len(clean_playlist)))\n",
    "    print(\"test outliers count: \" + str(count))\n",
    "    print(\"test outliers %:\" +  str({count/len(y_test)*100}))\n",
    "    outliers_df = pd.DataFrame(json.loads(outlier_temp_playlist)).T\n",
    "    cover_songs(outliers_df)"
   ]
  },
  {
   "cell_type": "code",
   "execution_count": null,
   "metadata": {},
   "outputs": [],
   "source": [
    "from sklearn.cluster import KMeans\n",
    "from sklearn.preprocessing import Normalizer\n",
    "def predict_data_first(df):\n",
    "    cleaned = df.drop(columns=['name', 'id'])\n",
    "    X_train, X_test, y_train, y_test = train_test_split(cleaned, df['id'], test_size=0.30)\n",
    "    \n",
    "    ## SVM\n",
    "    clf = make_pipeline(StandardScaler(), OneClassSVM(nu = 0.11, gamma=0.04))\n",
    "    clf.fit(X_train, y_train)\n",
    "    \n",
    "    predictions = clf.predict(X_test)\n",
    "    outliers = [id for id, predict in zip(y_test, predictions) if predict < 0]\n",
    "    count = len(outliers)\n",
    "    return predictions, outliers, count, y_test"
   ]
  },
  {
   "cell_type": "code",
   "execution_count": null,
   "metadata": {
    "scrolled": true
   },
   "outputs": [],
   "source": [
    "predictions, outliers, count, y_test = predict_data_first(clean_playlist)\n",
    "outlier_temp_playlist = original_playlist.loc[clean_playlist['id'].isin(outliers)].to_json(orient='index')\n",
    "display_outlier_data(from_oaz, count, y_test)"
   ]
  },
  {
   "cell_type": "code",
   "execution_count": null,
   "metadata": {},
   "outputs": [],
   "source": [
    "detected_outliers = pd.DataFrame(json.loads(outlier_temp_playlist)).T\n",
    "detected_outliers"
   ]
  },
  {
   "cell_type": "code",
   "execution_count": null,
   "metadata": {},
   "outputs": [],
   "source": []
  },
  {
   "cell_type": "code",
   "execution_count": null,
   "metadata": {},
   "outputs": [],
   "source": []
  },
  {
   "cell_type": "markdown",
   "metadata": {},
   "source": [
    "## Extra"
   ]
  },
  {
   "cell_type": "code",
   "execution_count": null,
   "metadata": {},
   "outputs": [],
   "source": [
    "## show all recommendations"
   ]
  },
  {
   "cell_type": "code",
   "execution_count": null,
   "metadata": {},
   "outputs": [],
   "source": [
    "## show bad recommendations (low popularity)\n",
    "#cover_songs(outliers_df)"
   ]
  },
  {
   "cell_type": "code",
   "execution_count": null,
   "metadata": {},
   "outputs": [],
   "source": [
    "## show good recommendations (high popularity)"
   ]
  }
 ],
 "metadata": {
  "kernelspec": {
   "display_name": "Python 3",
   "language": "python",
   "name": "python3"
  },
  "language_info": {
   "codemirror_mode": {
    "name": "ipython",
    "version": 3
   },
   "file_extension": ".py",
   "mimetype": "text/x-python",
   "name": "python",
   "nbconvert_exporter": "python",
   "pygments_lexer": "ipython3",
   "version": "3.7.10"
  }
 },
 "nbformat": 4,
 "nbformat_minor": 4
}
