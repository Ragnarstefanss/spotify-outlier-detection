{
 "cells": [
  {
   "cell_type": "code",
   "execution_count": 1,
   "metadata": {},
   "outputs": [],
   "source": [
    "# some code implemented from youtube tutorial from Madhav Thaker\n",
    "# https://github.com/madhavthaker/spotify-recommendation-system"
   ]
  },
  {
   "cell_type": "code",
   "execution_count": 2,
   "metadata": {},
   "outputs": [],
   "source": [
    "import numpy as np\n",
    "import pandas as pd\n",
    "import json\n",
    "from IPython.display import Image\n",
    "import itertools\n",
    "import sys\n",
    "import re\n",
    "import os\n",
    "import matplotlib.pyplot as plt\n",
    "\n",
    "# Spotipy\n",
    "import spotipy\n",
    "from spotipy.oauth2 import SpotifyClientCredentials\n",
    "from spotipy.oauth2 import SpotifyOAuth\n",
    "import spotipy.util as util\n",
    "\n",
    "import warnings\n",
    "warnings.filterwarnings(\"ignore\")\n",
    "\n",
    "\n",
    "url = os.getcwd()"
   ]
  },
  {
   "cell_type": "code",
   "execution_count": 3,
   "metadata": {},
   "outputs": [],
   "source": [
    "from secrets import client_id, client_secret\n",
    "\n",
    "scope = 'user-library-read'\n",
    "\n",
    "if len(sys.argv) > 1:\n",
    "    username = sys.argv[1]\n",
    "else:\n",
    "    print(\"Usage: %s username\" % (sys.argv[0],))\n",
    "    sys.exit()\n",
    "\n",
    "# Spotify access\n",
    "auth_manager = SpotifyClientCredentials(client_id=client_id, client_secret=client_secret)\n",
    "sp = spotipy.Spotify(auth_manager=auth_manager)\n",
    "\n",
    "token = util.prompt_for_user_token(scope, client_id= client_id, client_secret=client_secret, redirect_uri='http://localhost:8881/')\n",
    "sp = spotipy.Spotify(auth=token)"
   ]
  },
  {
   "cell_type": "code",
   "execution_count": 4,
   "metadata": {},
   "outputs": [],
   "source": [
    "def get_users_playlists():\n",
    "    playlist_names = {}\n",
    "    playlist_photos = {}\n",
    "    \n",
    "    for i in sp.current_user_playlists()['items']:\n",
    "        playlist_names[i['name']] = i['uri'].split(':')[2]\n",
    "        playlist_photos[i['uri'].split(':')[2]] = i['images'][0]['url']\n",
    "    \n",
    "    return playlist_names, playlist_photos\n",
    "\n",
    "# Call get_users_playlists()\n",
    "playlist_names, playlist_photos = get_users_playlists()"
   ]
  },
  {
   "cell_type": "code",
   "execution_count": 5,
   "metadata": {},
   "outputs": [],
   "source": [
    "#playlist_names"
   ]
  },
  {
   "cell_type": "code",
   "execution_count": 6,
   "metadata": {},
   "outputs": [],
   "source": [
    "def get_playlist_tracks(username,playlist_id):\n",
    "    results = sp.user_playlist_tracks(username,playlist_id)\n",
    "    tracks = results['items']\n",
    "    while results['next']:\n",
    "        results = sp.next(results)\n",
    "        tracks.extend(results['items'])\n",
    "    return tracks"
   ]
  },
  {
   "cell_type": "code",
   "execution_count": 47,
   "metadata": {},
   "outputs": [],
   "source": [
    "track_info = pd.DataFrame(columns=['id', 'name', 'link', 'popularity', 'image_url', 'preview_url', 'artist_id', 'artist_name'])\n",
    "#track_info"
   ]
  },
  {
   "cell_type": "code",
   "execution_count": 57,
   "metadata": {},
   "outputs": [
    {
     "data": {
      "text/plain": [
       "[{'id': '1iTJWaXWJE03Ek1qWGOfAo',\n",
       "  'name': 'This Night',\n",
       "  'link': 'https://open.spotify.com/track/1iTJWaXWJE03Ek1qWGOfAo',\n",
       "  'popularity': 42,\n",
       "  'image_url': 'https://i.scdn.co/image/ab67616d0000b2732a9191d0148e29e40c28c781',\n",
       "  'preview_url': 'https://p.scdn.co/mp3-preview/2948d6637d563e18821d06ba4c623b460ae3d7f2?cid=3865110ca5b34f7aa8551eb95d34387c',\n",
       "  'artist_id': '0xccdX954kn4RxZypGF7KH',\n",
       "  'artist_name': 'Black Lab'},\n",
       " {'id': '5KGbRvZyVyKP2AEJMHErB4',\n",
       "  'name': 'Old Yellow Bricks',\n",
       "  'link': 'https://open.spotify.com/track/5KGbRvZyVyKP2AEJMHErB4',\n",
       "  'popularity': 68,\n",
       "  'image_url': 'https://i.scdn.co/image/ab67616d0000b273b1f8da74f225fa1225cdface',\n",
       "  'preview_url': 'https://p.scdn.co/mp3-preview/87d579931c809534633ed248276bfe3bd9142b75?cid=3865110ca5b34f7aa8551eb95d34387c',\n",
       "  'artist_id': '7Ln80lUS6He07XvHI8qqHH',\n",
       "  'artist_name': 'Arctic Monkeys'},\n",
       " {'id': '15BQ7vEDv2LJuh8TxWIhtd',\n",
       "  'name': 'The Passenger',\n",
       "  'link': 'https://open.spotify.com/track/15BQ7vEDv2LJuh8TxWIhtd',\n",
       "  'popularity': 74,\n",
       "  'image_url': 'https://i.scdn.co/image/ab67616d0000b2734aa5f679427e35409a06f225',\n",
       "  'preview_url': None,\n",
       "  'artist_id': '33EUXrFKGjpUSGacqEHhU4',\n",
       "  'artist_name': 'Iggy Pop'}]"
      ]
     },
     "execution_count": 57,
     "metadata": {},
     "output_type": "execute_result"
    }
   ],
   "source": [
    "def get_track_info(number):\n",
    "    # Track\n",
    "    track = tracks[number]\n",
    "    added_by = track['added_by']['id']\n",
    "    track_info = track['track']\n",
    "    track_artist = track_info['artists'][0]\n",
    "    track_album = track_info['album']\n",
    "\n",
    "    # Informations about the track\n",
    "    id = track_info['id']\n",
    "    name = track_info['name']\n",
    "    popularity = track_info['popularity']\n",
    "    link = track_info['external_urls']['spotify']\n",
    "    preview_url = track_info['preview_url']\n",
    "\n",
    "    # Informations about the artists\n",
    "    artist_id = track_artist['id']\n",
    "    artist_name = track_artist['name']\n",
    "    \n",
    "    # get tracks album image\n",
    "    image_url = track_album['images'][0]['url']\n",
    "\n",
    "    \n",
    "    track_out = {\n",
    "        'id': id,\n",
    "        'name': name,\n",
    "        'link': link,\n",
    "        'popularity': popularity,\n",
    "        'image_url': image_url,\n",
    "        'preview_url': preview_url,\n",
    "        'artist_id': artist_id,\n",
    "        'artist_name': artist_name\n",
    "    }\n",
    "    return track_out\n",
    "\n",
    "\n",
    "track_info = []\n",
    "for playlist_name, playlist_id in playlist_names.items():\n",
    "    if(str(playlist_id) == \"5Yi5I6uqMn9oyV3RhvUVNm\"):\n",
    "        tracks = get_playlist_tracks(\"davitoz\", playlist_id)\n",
    "        #for loop here and replace with number\n",
    "        track_info.append(get_track_info(0))\n",
    "        track_info.append(get_track_info(1))\n",
    "        track_info.append(get_track_info(2))\n",
    "\n",
    "track_info"
   ]
  },
  {
   "cell_type": "code",
   "execution_count": 52,
   "metadata": {},
   "outputs": [
    {
     "data": {
      "text/plain": [
       "[['5KGbRvZyVyKP2AEJMHErB4',\n",
       "  'Old Yellow Bricks',\n",
       "  'https://open.spotify.com/track/5KGbRvZyVyKP2AEJMHErB4',\n",
       "  68,\n",
       "  'https://i.scdn.co/image/ab67616d0000b273b1f8da74f225fa1225cdface',\n",
       "  'https://p.scdn.co/mp3-preview/87d579931c809534633ed248276bfe3bd9142b75?cid=3865110ca5b34f7aa8551eb95d34387c',\n",
       "  '7Ln80lUS6He07XvHI8qqHH',\n",
       "  'Arctic Monkeys']]"
      ]
     },
     "execution_count": 52,
     "metadata": {},
     "output_type": "execute_result"
    }
   ],
   "source": [
    "track_info"
   ]
  },
  {
   "cell_type": "code",
   "execution_count": 8,
   "metadata": {},
   "outputs": [
    {
     "ename": "KeyError",
     "evalue": "'images'",
     "output_type": "error",
     "traceback": [
      "\u001b[0;31m---------------------------------------------------------------------------\u001b[0m",
      "\u001b[0;31mKeyError\u001b[0m                                  Traceback (most recent call last)",
      "\u001b[0;32m<ipython-input-8-b288d11977b7>\u001b[0m in \u001b[0;36m<module>\u001b[0;34m\u001b[0m\n\u001b[1;32m      4\u001b[0m     \u001b[0;32mif\u001b[0m\u001b[0;34m(\u001b[0m\u001b[0mstr\u001b[0m\u001b[0;34m(\u001b[0m\u001b[0mplaylist_id\u001b[0m\u001b[0;34m)\u001b[0m \u001b[0;34m==\u001b[0m \u001b[0;34m\"5Yi5I6uqMn9oyV3RhvUVNm\"\u001b[0m\u001b[0;34m)\u001b[0m\u001b[0;34m:\u001b[0m\u001b[0;34m\u001b[0m\u001b[0;34m\u001b[0m\u001b[0m\n\u001b[1;32m      5\u001b[0m         \u001b[0mtracks\u001b[0m \u001b[0;34m=\u001b[0m \u001b[0mget_playlist_tracks\u001b[0m\u001b[0;34m(\u001b[0m\u001b[0;34m\"davitoz\"\u001b[0m\u001b[0;34m,\u001b[0m \u001b[0mplaylist_id\u001b[0m\u001b[0;34m)\u001b[0m\u001b[0;34m\u001b[0m\u001b[0;34m\u001b[0m\u001b[0m\n\u001b[0;32m----> 6\u001b[0;31m         \u001b[0mget_track_info\u001b[0m\u001b[0;34m(\u001b[0m\u001b[0;36m2\u001b[0m\u001b[0;34m)\u001b[0m\u001b[0;34m\u001b[0m\u001b[0;34m\u001b[0m\u001b[0m\n\u001b[0m",
      "\u001b[0;32m<ipython-input-7-51aa909653bf>\u001b[0m in \u001b[0;36mget_track_info\u001b[0;34m(number)\u001b[0m\n\u001b[1;32m     18\u001b[0m \u001b[0;34m\u001b[0m\u001b[0m\n\u001b[1;32m     19\u001b[0m     \u001b[0;31m# get track image\u001b[0m\u001b[0;34m\u001b[0m\u001b[0;34m\u001b[0m\u001b[0;34m\u001b[0m\u001b[0m\n\u001b[0;32m---> 20\u001b[0;31m     \u001b[0mimage_url\u001b[0m \u001b[0;34m=\u001b[0m \u001b[0mtrack_info\u001b[0m\u001b[0;34m[\u001b[0m\u001b[0;34m'images'\u001b[0m\u001b[0;34m]\u001b[0m\u001b[0;34m[\u001b[0m\u001b[0;36m0\u001b[0m\u001b[0;34m]\u001b[0m\u001b[0;34m\u001b[0m\u001b[0;34m\u001b[0m\u001b[0m\n\u001b[0m\u001b[1;32m     21\u001b[0m \u001b[0;34m\u001b[0m\u001b[0m\n\u001b[1;32m     22\u001b[0m     \u001b[0mprint\u001b[0m\u001b[0;34m(\u001b[0m\u001b[0mimage_url\u001b[0m\u001b[0;34m)\u001b[0m\u001b[0;34m\u001b[0m\u001b[0;34m\u001b[0m\u001b[0m\n",
      "\u001b[0;31mKeyError\u001b[0m: 'images'"
     ]
    }
   ],
   "source": [
    "playlist_tracks = {}\n",
    "\n",
    "for playlist_name, playlist_id in playlist_names.items():\n",
    "    if(str(playlist_id) == \"5Yi5I6uqMn9oyV3RhvUVNm\"):\n",
    "        tracks = get_playlist_tracks(\"davitoz\", playlist_id)\n",
    "        get_track_info(2)\n"
   ]
  },
  {
   "cell_type": "code",
   "execution_count": null,
   "metadata": {},
   "outputs": [],
   "source": [
    "print({k: playlist_tracks[k] for k in list(playlist_tracks)[:2]})"
   ]
  },
  {
   "cell_type": "code",
   "execution_count": null,
   "metadata": {},
   "outputs": [],
   "source": [
    "#find if there exists duplicates\n",
    "## TODO: "
   ]
  },
  {
   "cell_type": "code",
   "execution_count": null,
   "metadata": {},
   "outputs": [],
   "source": [
    "def create_necessary_outputs(playlist_name,id_dic, df):\n",
    "    \"\"\" \n",
    "    Pull songs from a specific playlist.\n",
    "\n",
    "    Parameters: \n",
    "        playlist_name (str): name of the playlist you'd like to pull from the spotify API\n",
    "        id_dic (dic): dictionary that maps playlist_name to playlist_id\n",
    "        df (pandas dataframe): spotify datafram\n",
    "        \n",
    "    Returns: \n",
    "        playlist: all songs in the playlist THAT ARE AVAILABLE IN THE KAGGLE DATASET\n",
    "    \"\"\"\n",
    "    \n",
    "    #generate playlist dataframe\n",
    "    playlist = pd.DataFrame()\n",
    "    playlist_name = playlist_name\n",
    "\n",
    "    for ix, i in enumerate(sp.playlist(id_dic[playlist_name])['tracks']['items']):\n",
    "        #print(i['track']['artists'][0]['name'])\n",
    "        playlist.loc[ix, 'artist'] = i['track']['artists'][0]['name']\n",
    "        playlist.loc[ix, 'name'] = i['track']['name']\n",
    "        playlist.loc[ix, 'id'] = i['track']['id'] # ['uri'].split(':')[2]\n",
    "        playlist.loc[ix, 'url'] = i['track']['album']['images'][1]['url']\n",
    "        playlist.loc[ix, 'date_added'] = i['added_at']\n",
    "\n",
    "    playlist['date_added'] = pd.to_datetime(playlist['date_added'])  \n",
    "    \n",
    "    playlist = playlist[playlist['id'].isin(df['id'].values)].sort_values('date_added',ascending = False)\n",
    "    \n",
    "    return playlist"
   ]
  },
  {
   "cell_type": "code",
   "execution_count": null,
   "metadata": {},
   "outputs": [],
   "source": []
  },
  {
   "cell_type": "code",
   "execution_count": null,
   "metadata": {},
   "outputs": [],
   "source": [
    "playlist_EDM = create_necessary_outputs('From edits', playlist_names,spotify_df)\n",
    "playlist_chill = create_necessary_outputs('Eyeex',playlist_names, spotify_df)\n",
    "#playlist_classical = create_necessary_outputs('Epic Classical',id_name, spotify_df)"
   ]
  },
  {
   "cell_type": "code",
   "execution_count": null,
   "metadata": {},
   "outputs": [],
   "source": []
  },
  {
   "cell_type": "code",
   "execution_count": null,
   "metadata": {},
   "outputs": [],
   "source": []
  },
  {
   "cell_type": "code",
   "execution_count": null,
   "metadata": {},
   "outputs": [],
   "source": []
  },
  {
   "cell_type": "code",
   "execution_count": null,
   "metadata": {},
   "outputs": [],
   "source": []
  },
  {
   "cell_type": "code",
   "execution_count": null,
   "metadata": {},
   "outputs": [],
   "source": []
  },
  {
   "cell_type": "code",
   "execution_count": null,
   "metadata": {},
   "outputs": [],
   "source": []
  },
  {
   "cell_type": "code",
   "execution_count": null,
   "metadata": {},
   "outputs": [],
   "source": []
  },
  {
   "cell_type": "code",
   "execution_count": null,
   "metadata": {},
   "outputs": [],
   "source": []
  },
  {
   "cell_type": "code",
   "execution_count": null,
   "metadata": {},
   "outputs": [],
   "source": []
  },
  {
   "cell_type": "code",
   "execution_count": null,
   "metadata": {},
   "outputs": [],
   "source": [
    "## show all recommendations"
   ]
  },
  {
   "cell_type": "code",
   "execution_count": null,
   "metadata": {},
   "outputs": [],
   "source": [
    "## show bad recommendations (low popularity)"
   ]
  },
  {
   "cell_type": "code",
   "execution_count": null,
   "metadata": {},
   "outputs": [],
   "source": [
    "## show good recommendations (high popularity)"
   ]
  }
 ],
 "metadata": {
  "kernelspec": {
   "display_name": "Python 3",
   "language": "python",
   "name": "python3"
  },
  "language_info": {
   "codemirror_mode": {
    "name": "ipython",
    "version": 3
   },
   "file_extension": ".py",
   "mimetype": "text/x-python",
   "name": "python",
   "nbconvert_exporter": "python",
   "pygments_lexer": "ipython3",
   "version": "3.7.10"
  }
 },
 "nbformat": 4,
 "nbformat_minor": 4
}
