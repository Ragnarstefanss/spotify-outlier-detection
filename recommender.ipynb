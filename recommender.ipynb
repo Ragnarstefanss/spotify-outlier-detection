{
 "cells": [
  {
   "cell_type": "code",
   "execution_count": 1,
   "metadata": {},
   "outputs": [],
   "source": [
    "# some code implemented from youtube tutorial from Madhav Thaker\n",
    "# https://github.com/madhavthaker/spotify-recommendation-system"
   ]
  },
  {
   "cell_type": "code",
   "execution_count": 2,
   "metadata": {},
   "outputs": [
    {
     "data": {
      "text/html": [
       "<style>.container { width:95% !important; }</style>"
      ],
      "text/plain": [
       "<IPython.core.display.HTML object>"
      ]
     },
     "metadata": {},
     "output_type": "display_data"
    }
   ],
   "source": [
    "import pandas as pd\n",
    "import numpy as np\n",
    "import json\n",
    "from IPython.display import Image\n",
    "from IPython.core.display import display, HTML\n",
    "import itertools\n",
    "import sys\n",
    "import re\n",
    "import os\n",
    "import matplotlib.pyplot as plt\n",
    "from skimage import io\n",
    "from IPython.display import Image\n",
    "\n",
    "# Spotipy\n",
    "import spotipy\n",
    "from spotipy.oauth2 import SpotifyClientCredentials\n",
    "from spotipy.oauth2 import SpotifyOAuth\n",
    "import spotipy.util as util\n",
    "\n",
    "import warnings\n",
    "warnings.filterwarnings(\"ignore\")\n",
    "\n",
    "%matplotlib inline\n",
    "display(HTML(\"<style>.container { width:95% !important; }</style>\"))\n",
    "pd.set_option('display.max_columns', None)\n",
    "pd.set_option(\"max_rows\", None)\n",
    "\n",
    "url = os.getcwd()"
   ]
  },
  {
   "cell_type": "code",
   "execution_count": 3,
   "metadata": {},
   "outputs": [
    {
     "data": {
      "text/html": [
       "<style>.container { width:90% !important; }</style>"
      ],
      "text/plain": [
       "<IPython.core.display.HTML object>"
      ]
     },
     "metadata": {},
     "output_type": "display_data"
    }
   ],
   "source": [
    "%matplotlib inline\n",
    "#If you're not familiar with this, save it! Makes using jupyter notebook on laptops much easier\n",
    "from IPython.core.display import display, HTML\n",
    "display(HTML(\"<style>.container { width:90% !important; }</style>\"))\n",
    "#another useful command to make data exploration easier\n",
    "# NOTE: if you are using a massive dataset, this could slow down your code. \n",
    "pd.set_option('display.max_columns', None)\n",
    "pd.set_option(\"max_rows\", None)"
   ]
  },
  {
   "cell_type": "code",
   "execution_count": 4,
   "metadata": {},
   "outputs": [],
   "source": [
    "from secrets import client_id, client_secret\n",
    "\n",
    "scope = 'user-library-read'\n",
    "\n",
    "if len(sys.argv) > 1:\n",
    "    username = sys.argv[1]\n",
    "else:\n",
    "    print(\"Usage: %s username\" % (sys.argv[0],))\n",
    "    sys.exit()\n",
    "\n",
    "# Spotify access\n",
    "auth_manager = SpotifyClientCredentials(client_id=client_id, client_secret=client_secret)\n",
    "sp = spotipy.Spotify(auth_manager=auth_manager)\n",
    "\n",
    "token = util.prompt_for_user_token(scope, client_id= client_id, client_secret=client_secret, redirect_uri='http://localhost:8881/')\n",
    "sp = spotipy.Spotify(auth=token)"
   ]
  },
  {
   "cell_type": "code",
   "execution_count": null,
   "metadata": {},
   "outputs": [],
   "source": []
  },
  {
   "cell_type": "code",
   "execution_count": 5,
   "metadata": {},
   "outputs": [],
   "source": [
    "def get_users_playlists():\n",
    "    playlist_names = {}\n",
    "    playlist_photos = {}\n",
    "    \n",
    "    for i in sp.current_user_playlists()['items']:\n",
    "        playlist_names[i['name']] = i['uri'].split(':')[2]\n",
    "        playlist_photos[i['uri'].split(':')[2]] = i['images'][0]['url']\n",
    "    \n",
    "    return playlist_names, playlist_photos\n",
    "\n",
    "# Call get_users_playlists()\n",
    "playlist_names, playlist_photos = get_users_playlists()"
   ]
  },
  {
   "cell_type": "code",
   "execution_count": 20,
   "metadata": {},
   "outputs": [
    {
     "data": {
      "text/plain": [
       "{'New Playlist 2': '5e8ijEDzlaB0y9apSoZNBI',\n",
       " 'Tyler Bates – The Punisher (Original Soundtrack) 2': '3qt3t2qfyWSli9F6C9C3SF',\n",
       " 'Globus – Epicon (UK Version)': '25sJ1ieBzb2AVPS9GaZhKm',\n",
       " 's': '2L0LTJqWOFFI8qPqkDVjKG',\n",
       " 'Immediate – Trailerhead: Triumph': '71DD8rTMqJB4bnFRdS1Jz7',\n",
       " 'Electric Romeo – Immediate': '2aL9qUB2A6vc72I4AwrWlt',\n",
       " 'Highway man': '4thvxQYvACp32gZguRAiEw',\n",
       " 'party mood': '7MIO3PrQ0ZXdPobIpHOc5a',\n",
       " 'Southpaw (Music From And Inspired By The Motion Picture)': '0kF5WxQpwIlFG130bWovut',\n",
       " 'Work Hard, Play Hard – Wiz Khalifa': '1CavHtskIP3Dp0r9RCwXpY',\n",
       " 'From edits': '5Yi5I6uqMn9oyV3RhvUVNm',\n",
       " 'beuty': '7K0flcn5YDOXxPRhChKzre',\n",
       " 'OAZ': '0RVTSPELkBvNXUw27BUC0R',\n",
       " 'Eyeex': '2zqTk2BwhJx4CaqhwZ40RK',\n",
       " 'Icelandic Music | Ragnarsmedia': '2eyFd9OYGYRFG1WknFYfTy',\n",
       " 'Íslenskt': '4jp0RPWEON6B3hbLu6f1N4',\n",
       " 'Grime ': '3VsZqGKOP5E6pcixUKg8zt',\n",
       " 'Ultra 1.0': '0fQrVALjgMV5ckiOG6Lw0u',\n",
       " 'Ultra 2.0': '6N1CYumwsQ6hScprqxmfsL',\n",
       " 'Ultra 3.0': '1thpoCGLWqyLpPMFli6dHD',\n",
       " '21': '3WCO6yNpxaBEtRVTqyor8M',\n",
       " 'Local files 2.0o': '07I8sCyYpU2xDuJVNGXhdo',\n",
       " 'Á Móti Sól – í 10 Ár (The Best Of)': '4SRDPKw004DP3irzdIZeYG',\n",
       " 'Top Workout Songs': '5GBhCQ9cS1g8lrZxO9bg4R',\n",
       " 'Motivational Gym POWERBOOST': '4FEpLl0d2rtSEW1A1oTGzy',\n",
       " 'Beast Mode Rock': '37i9dQZF1DWZYWNM3NfvzJ',\n",
       " 'Adrenaline Workout': '37i9dQZF1DXe6bgV3TmZOL',\n",
       " 'Beast Mode Workout': '6btt3mEVOs8l21eMFSp3HK',\n",
       " 'One More Rep': '37i9dQZF1DX5OUjSS1OMgV',\n",
       " 'Training / Workout Motivation': '4gfcmZSdAZr6x8W1gwNOEw',\n",
       " 'Workout': '1ul94ZwiI43JEFb2P2GCZO',\n",
       " 'Weight Lifting': '6QFTCm0kQ6Ip30dr1VuP8U',\n",
       " 'Run For It!': '1Mh4KGj7TRLiCUzuZSSB3j',\n",
       " 'Haley Reinhart': '0Wni8xSIuOQ6zZMHvl6SEp',\n",
       " 'Marina and the Diamonds – Electra Heart (Deluxe)': '21jbIyJy8oVeAMn6t6xNT2',\n",
       " 'dmar': '6QDr8hrX4PdKeqmLKjbbjK',\n",
       " 'JóiPé – Ananas': '3BC9oheVWrMIOQTU4HcHOR',\n",
       " 'On Fleek': '6j2ZnN1A2xcWQMELm6hcdI',\n",
       " '🔞 Captain of the Party! ': '4Sg8UAlaDXDTcdFnkYGYSJ',\n",
       " 'Summer 2021 🌞 Party Hits 2021 🌞 ': '0va12zjtBfg7S5KfmDlJuZ',\n",
       " 'The Greatest Showman': '3EZKzn6ueALnQ3HgRUSM1d',\n",
       " 'THE SECRET LIFE of WALTER MITTY': '1dJMVuZMXwXJ9BwT6y2FdJ',\n",
       " 'Soundtrack Bad Neighbours:) ': '4xtPDrZ52U1imX4OnkAuMh',\n",
       " 'Starred': '0vthFtQk19q8ZmNecrFdY3',\n",
       " '#ThrowbackThursday': '37i9dQZF1DWWwaxRea1LWS',\n",
       " 'Friday Funday': '37i9dQZF1DX2Psgy8H1wu7',\n",
       " 'Brain Food': '37i9dQZF1DWXLeA8Omikj7',\n",
       " 'Topp 50 – Ísland': '37i9dQZEVXbKMzVsSGQ49S',\n",
       " 'Infinite Acoustic': '37i9dQZF1DX6z20IXmBjWI'}"
      ]
     },
     "execution_count": 20,
     "metadata": {},
     "output_type": "execute_result"
    }
   ],
   "source": [
    "playlist_names"
   ]
  },
  {
   "cell_type": "code",
   "execution_count": null,
   "metadata": {},
   "outputs": [],
   "source": []
  },
  {
   "cell_type": "code",
   "execution_count": 6,
   "metadata": {},
   "outputs": [],
   "source": []
  },
  {
   "cell_type": "code",
   "execution_count": null,
   "metadata": {},
   "outputs": [],
   "source": [
    "def get_playlist_tracks(username,playlist_id):\n",
    "    results = sp.user_playlist_tracks(username,playlist_id)\n",
    "    tracks = results['items']\n",
    "    while results['next']:\n",
    "        results = sp.next(results)\n",
    "        tracks.extend(results['items'])\n",
    "    return tracks"
   ]
  },
  {
   "cell_type": "code",
   "execution_count": 7,
   "metadata": {},
   "outputs": [],
   "source": [
    "def get_track_info(playlist_id,tracks, number):\n",
    "    # Track\n",
    "    track = tracks[number]\n",
    "    added_by = track['added_by']['id']\n",
    "    track_info = track['track']\n",
    "    track_artist = track_info['artists'][0]\n",
    "    track_album = track_info['album']\n",
    "\n",
    "    # Informations about the track\n",
    "    id = track_info['id']\n",
    "    name = track_info['name']\n",
    "    popularity = track_info['popularity']\n",
    "    #print(f\"{id} + {name}\")\n",
    "    if( 'spotify' in track_info):\n",
    "        link = \"\"\n",
    "    else:\n",
    "        link = track_info['external_urls']['spotify']\n",
    "    preview_url = track_info['preview_url']\n",
    "\n",
    "    # Informations about the artists\n",
    "    artist_id = track_artist['id']\n",
    "    artist_name = track_artist['name']\n",
    "    \n",
    "    # get tracks album image\n",
    "    image_url = track_album['images'][1]['url']\n",
    "\n",
    "    \n",
    "    track_out = {\n",
    "        'playlist_id': playlist_id,\n",
    "        'id': id,\n",
    "        'name': name,\n",
    "        'link': link,\n",
    "        'popularity': popularity,\n",
    "        'image_url': image_url,\n",
    "        'preview_url': preview_url,\n",
    "        'artist_id': artist_id,\n",
    "        'artist_name': artist_name\n",
    "    }\n",
    "    return track_out\n"
   ]
  },
  {
   "cell_type": "code",
   "execution_count": 14,
   "metadata": {},
   "outputs": [],
   "source": [
    "def track_info(id_playlist):\n",
    "    track_info = []\n",
    "    for playlist_name, playlist_id in playlist_names.items():\n",
    "        if(str(playlist_id) == id_playlist):\n",
    "            tracks = get_playlist_tracks(\"davitoz\", playlist_id)\n",
    "            for track_number in range(0, len(tracks)):\n",
    "                track_info.append(get_track_info(playlist_id, tracks, track_number))\n",
    "    return pd.DataFrame(track_info)\n"
   ]
  },
  {
   "cell_type": "code",
   "execution_count": 23,
   "metadata": {},
   "outputs": [
    {
     "data": {
      "text/html": [
       "<div>\n",
       "<style scoped>\n",
       "    .dataframe tbody tr th:only-of-type {\n",
       "        vertical-align: middle;\n",
       "    }\n",
       "\n",
       "    .dataframe tbody tr th {\n",
       "        vertical-align: top;\n",
       "    }\n",
       "\n",
       "    .dataframe thead th {\n",
       "        text-align: right;\n",
       "    }\n",
       "</style>\n",
       "<table border=\"1\" class=\"dataframe\">\n",
       "  <thead>\n",
       "    <tr style=\"text-align: right;\">\n",
       "      <th></th>\n",
       "      <th>playlist_id</th>\n",
       "      <th>id</th>\n",
       "      <th>name</th>\n",
       "      <th>link</th>\n",
       "      <th>popularity</th>\n",
       "      <th>image_url</th>\n",
       "      <th>preview_url</th>\n",
       "      <th>artist_id</th>\n",
       "      <th>artist_name</th>\n",
       "    </tr>\n",
       "  </thead>\n",
       "  <tbody>\n",
       "    <tr>\n",
       "      <th>0</th>\n",
       "      <td>2eyFd9OYGYRFG1WknFYfTy</td>\n",
       "      <td>47yHHrWHDZ76rNzWSu41LD</td>\n",
       "      <td>Eyjan græna</td>\n",
       "      <td>https://open.spotify.com/track/47yHHrWHDZ76rNz...</td>\n",
       "      <td>20</td>\n",
       "      <td>https://i.scdn.co/image/ab67616d00001e02ec6fa1...</td>\n",
       "      <td>https://p.scdn.co/mp3-preview/de9c6b1f39313a07...</td>\n",
       "      <td>69fBMmYs9SDJ5cUmikwrWQ</td>\n",
       "      <td>EGO</td>\n",
       "    </tr>\n",
       "    <tr>\n",
       "      <th>1</th>\n",
       "      <td>2eyFd9OYGYRFG1WknFYfTy</td>\n",
       "      <td>3TmOwbq8umM9ZFHzT5jKFN</td>\n",
       "      <td>Fjöllin hafa vakað</td>\n",
       "      <td>https://open.spotify.com/track/3TmOwbq8umM9ZFH...</td>\n",
       "      <td>34</td>\n",
       "      <td>https://i.scdn.co/image/ab67616d00001e02d9648a...</td>\n",
       "      <td>https://p.scdn.co/mp3-preview/f2f7bc8ae3fc9dd8...</td>\n",
       "      <td>69fBMmYs9SDJ5cUmikwrWQ</td>\n",
       "      <td>EGO</td>\n",
       "    </tr>\n",
       "    <tr>\n",
       "      <th>2</th>\n",
       "      <td>2eyFd9OYGYRFG1WknFYfTy</td>\n",
       "      <td>0IdsoEg5mjXNqlrskkzWjl</td>\n",
       "      <td>Rómeó og Júlía</td>\n",
       "      <td>https://open.spotify.com/track/0IdsoEg5mjXNqlr...</td>\n",
       "      <td>45</td>\n",
       "      <td>https://i.scdn.co/image/ab67616d00001e02467b1f...</td>\n",
       "      <td>https://p.scdn.co/mp3-preview/bc645ff330ddc713...</td>\n",
       "      <td>0MtTfq27LQu7CmE5t308Up</td>\n",
       "      <td>Bubbi Morthens</td>\n",
       "    </tr>\n",
       "    <tr>\n",
       "      <th>3</th>\n",
       "      <td>2eyFd9OYGYRFG1WknFYfTy</td>\n",
       "      <td>3T7Dil6DmABypEgSrKrLnv</td>\n",
       "      <td>Afgan</td>\n",
       "      <td>https://open.spotify.com/track/3T7Dil6DmABypEg...</td>\n",
       "      <td>42</td>\n",
       "      <td>https://i.scdn.co/image/ab67616d00001e0245c631...</td>\n",
       "      <td>https://p.scdn.co/mp3-preview/2227ae67b47c89ae...</td>\n",
       "      <td>0MtTfq27LQu7CmE5t308Up</td>\n",
       "      <td>Bubbi Morthens</td>\n",
       "    </tr>\n",
       "    <tr>\n",
       "      <th>4</th>\n",
       "      <td>2eyFd9OYGYRFG1WknFYfTy</td>\n",
       "      <td>2iMBF1Wpy0sreHVLaTVPfQ</td>\n",
       "      <td>Sódóma</td>\n",
       "      <td>https://open.spotify.com/track/2iMBF1Wpy0sreHV...</td>\n",
       "      <td>36</td>\n",
       "      <td>https://i.scdn.co/image/ab67616d00001e02917b41...</td>\n",
       "      <td>https://p.scdn.co/mp3-preview/a8c14e01f1044bbf...</td>\n",
       "      <td>2l19aqbqP2H5aKEUYCVM9h</td>\n",
       "      <td>Sálin hans Jóns míns</td>\n",
       "    </tr>\n",
       "    <tr>\n",
       "      <th>5</th>\n",
       "      <td>2eyFd9OYGYRFG1WknFYfTy</td>\n",
       "      <td>7us0EfoX0SIndotw8lngrf</td>\n",
       "      <td>Ofboðslega frægur</td>\n",
       "      <td>https://open.spotify.com/track/7us0EfoX0SIndot...</td>\n",
       "      <td>36</td>\n",
       "      <td>https://i.scdn.co/image/ab67616d00001e02a370af...</td>\n",
       "      <td>https://p.scdn.co/mp3-preview/1ed255347201d0ff...</td>\n",
       "      <td>25ekuoCP29jHKzH4PEGun6</td>\n",
       "      <td>Stuðmenn</td>\n",
       "    </tr>\n",
       "  </tbody>\n",
       "</table>\n",
       "</div>"
      ],
      "text/plain": [
       "              playlist_id                      id                name  \\\n",
       "0  2eyFd9OYGYRFG1WknFYfTy  47yHHrWHDZ76rNzWSu41LD         Eyjan græna   \n",
       "1  2eyFd9OYGYRFG1WknFYfTy  3TmOwbq8umM9ZFHzT5jKFN  Fjöllin hafa vakað   \n",
       "2  2eyFd9OYGYRFG1WknFYfTy  0IdsoEg5mjXNqlrskkzWjl      Rómeó og Júlía   \n",
       "3  2eyFd9OYGYRFG1WknFYfTy  3T7Dil6DmABypEgSrKrLnv               Afgan   \n",
       "4  2eyFd9OYGYRFG1WknFYfTy  2iMBF1Wpy0sreHVLaTVPfQ              Sódóma   \n",
       "5  2eyFd9OYGYRFG1WknFYfTy  7us0EfoX0SIndotw8lngrf   Ofboðslega frægur   \n",
       "\n",
       "                                                link  popularity  \\\n",
       "0  https://open.spotify.com/track/47yHHrWHDZ76rNz...          20   \n",
       "1  https://open.spotify.com/track/3TmOwbq8umM9ZFH...          34   \n",
       "2  https://open.spotify.com/track/0IdsoEg5mjXNqlr...          45   \n",
       "3  https://open.spotify.com/track/3T7Dil6DmABypEg...          42   \n",
       "4  https://open.spotify.com/track/2iMBF1Wpy0sreHV...          36   \n",
       "5  https://open.spotify.com/track/7us0EfoX0SIndot...          36   \n",
       "\n",
       "                                           image_url  \\\n",
       "0  https://i.scdn.co/image/ab67616d00001e02ec6fa1...   \n",
       "1  https://i.scdn.co/image/ab67616d00001e02d9648a...   \n",
       "2  https://i.scdn.co/image/ab67616d00001e02467b1f...   \n",
       "3  https://i.scdn.co/image/ab67616d00001e0245c631...   \n",
       "4  https://i.scdn.co/image/ab67616d00001e02917b41...   \n",
       "5  https://i.scdn.co/image/ab67616d00001e02a370af...   \n",
       "\n",
       "                                         preview_url               artist_id  \\\n",
       "0  https://p.scdn.co/mp3-preview/de9c6b1f39313a07...  69fBMmYs9SDJ5cUmikwrWQ   \n",
       "1  https://p.scdn.co/mp3-preview/f2f7bc8ae3fc9dd8...  69fBMmYs9SDJ5cUmikwrWQ   \n",
       "2  https://p.scdn.co/mp3-preview/bc645ff330ddc713...  0MtTfq27LQu7CmE5t308Up   \n",
       "3  https://p.scdn.co/mp3-preview/2227ae67b47c89ae...  0MtTfq27LQu7CmE5t308Up   \n",
       "4  https://p.scdn.co/mp3-preview/a8c14e01f1044bbf...  2l19aqbqP2H5aKEUYCVM9h   \n",
       "5  https://p.scdn.co/mp3-preview/1ed255347201d0ff...  25ekuoCP29jHKzH4PEGun6   \n",
       "\n",
       "            artist_name  \n",
       "0                   EGO  \n",
       "1                   EGO  \n",
       "2        Bubbi Morthens  \n",
       "3        Bubbi Morthens  \n",
       "4  Sálin hans Jóns míns  \n",
       "5              Stuðmenn  "
      ]
     },
     "execution_count": 23,
     "metadata": {},
     "output_type": "execute_result"
    }
   ],
   "source": [
    "from_edits_playlist = track_info(\"5Yi5I6uqMn9oyV3RhvUVNm\")\n",
    "from_isx_playlist = track_info(\"2eyFd9OYGYRFG1WknFYfTy\")\n",
    "from_isx_playlist\n",
    "#from_edits_playlist"
   ]
  },
  {
   "cell_type": "code",
   "execution_count": 10,
   "metadata": {},
   "outputs": [],
   "source": [
    "#find if there exists duplicates\n",
    "## TODO: "
   ]
  },
  {
   "cell_type": "code",
   "execution_count": null,
   "metadata": {},
   "outputs": [],
   "source": []
  },
  {
   "cell_type": "code",
   "execution_count": 17,
   "metadata": {},
   "outputs": [],
   "source": [
    "from skimage import io\n",
    "import matplotlib.pyplot as plt\n",
    "\n",
    "def cover_songs(df):\n",
    "    \"\"\" \n",
    "    Visualize cover art of the songs in the inputted dataframe\n",
    "\n",
    "    Parameters: \n",
    "        df (pandas dataframe): Playlist Dataframe\n",
    "    \"\"\"\n",
    "    \n",
    "    image_url = df['image_url'].values\n",
    "    plt.figure(figsize=(15,int(0.625 * len(image_url))))\n",
    "    columns = 5\n",
    "    \n",
    "    for i, url in enumerate(image_url):\n",
    "        plt.subplot(len(image_url) / columns + 1, columns, i + 1)\n",
    "\n",
    "        image = io.imread(url)\n",
    "        plt.imshow(image)\n",
    "        plt.xticks(color = 'w', fontsize = 0.1)\n",
    "        plt.yticks(color = 'w', fontsize = 0.1)\n",
    "        plt.xlabel(df['name'].values[i], fontsize = 12)\n",
    "        plt.tight_layout(h_pad=0.4, w_pad=0)\n",
    "        plt.subplots_adjust(wspace=None, hspace=None)\n",
    "\n",
    "    plt.show()"
   ]
  },
  {
   "cell_type": "code",
   "execution_count": 24,
   "metadata": {},
   "outputs": [
    {
     "data": {
      "image/png": "[encoded data removed]",
      "text/plain": [
       "<Figure size 1080x216 with 6 Axes>"
      ]
     },
     "metadata": {
      "needs_background": "dark"
     },
     "output_type": "display_data"
    }
   ],
   "source": [
    "#cover_songs(from_edits_playlist)\n",
    "cover_songs(from_isx_playlist)"
   ]
  },
  {
   "cell_type": "code",
   "execution_count": 12,
   "metadata": {},
   "outputs": [],
   "source": [
    "def create_necessary_outputs(playlist_name,id_dic, df):\n",
    "    \"\"\" \n",
    "    Pull songs from a specific playlist.\n",
    "\n",
    "    Parameters: \n",
    "        playlist_name (str): name of the playlist you'd like to pull from the spotify API\n",
    "        id_dic (dic): dictionary that maps playlist_name to playlist_id\n",
    "        df (pandas dataframe): spotify datafram\n",
    "        \n",
    "    Returns: \n",
    "        playlist: all songs in the playlist THAT ARE AVAILABLE IN THE KAGGLE DATASET\n",
    "    \"\"\"\n",
    "    \n",
    "    #generate playlist dataframe\n",
    "    playlist = pd.DataFrame()\n",
    "    playlist_name = playlist_name\n",
    "\n",
    "    for ix, i in enumerate(sp.playlist(id_dic[playlist_name])['tracks']['items']):\n",
    "        #print(i['track']['artists'][0]['name'])\n",
    "        playlist.loc[ix, 'artist'] = i['track']['artists'][0]['name']\n",
    "        playlist.loc[ix, 'name'] = i['track']['name']\n",
    "        playlist.loc[ix, 'id'] = i['track']['id'] # ['uri'].split(':')[2]\n",
    "        playlist.loc[ix, 'url'] = i['track']['album']['images'][1]['url']\n",
    "        playlist.loc[ix, 'date_added'] = i['added_at']\n",
    "\n",
    "    playlist['date_added'] = pd.to_datetime(playlist['date_added'])  \n",
    "    \n",
    "    playlist = playlist[playlist['id'].isin(df['id'].values)].sort_values('date_added',ascending = False)\n",
    "    \n",
    "    return playlist"
   ]
  },
  {
   "cell_type": "code",
   "execution_count": null,
   "metadata": {},
   "outputs": [],
   "source": []
  },
  {
   "cell_type": "code",
   "execution_count": 13,
   "metadata": {},
   "outputs": [
    {
     "ename": "NameError",
     "evalue": "name 'spotify_df' is not defined",
     "output_type": "error",
     "traceback": [
      "\u001b[0;31m---------------------------------------------------------------------------\u001b[0m",
      "\u001b[0;31mNameError\u001b[0m                                 Traceback (most recent call last)",
      "\u001b[0;32m<ipython-input-13-e4fd4375718d>\u001b[0m in \u001b[0;36m<module>\u001b[0;34m\u001b[0m\n\u001b[0;32m----> 1\u001b[0;31m \u001b[0mplaylist_EDM\u001b[0m \u001b[0;34m=\u001b[0m \u001b[0mcreate_necessary_outputs\u001b[0m\u001b[0;34m(\u001b[0m\u001b[0;34m'From edits'\u001b[0m\u001b[0;34m,\u001b[0m \u001b[0mplaylist_names\u001b[0m\u001b[0;34m,\u001b[0m\u001b[0mspotify_df\u001b[0m\u001b[0;34m)\u001b[0m\u001b[0;34m\u001b[0m\u001b[0;34m\u001b[0m\u001b[0m\n\u001b[0m\u001b[1;32m      2\u001b[0m \u001b[0mplaylist_chill\u001b[0m \u001b[0;34m=\u001b[0m \u001b[0mcreate_necessary_outputs\u001b[0m\u001b[0;34m(\u001b[0m\u001b[0;34m'Eyeex'\u001b[0m\u001b[0;34m,\u001b[0m\u001b[0mplaylist_names\u001b[0m\u001b[0;34m,\u001b[0m \u001b[0mspotify_df\u001b[0m\u001b[0;34m)\u001b[0m\u001b[0;34m\u001b[0m\u001b[0;34m\u001b[0m\u001b[0m\n\u001b[1;32m      3\u001b[0m \u001b[0;31m#playlist_classical = create_necessary_outputs('Epic Classical',id_name, spotify_df)\u001b[0m\u001b[0;34m\u001b[0m\u001b[0;34m\u001b[0m\u001b[0;34m\u001b[0m\u001b[0m\n",
      "\u001b[0;31mNameError\u001b[0m: name 'spotify_df' is not defined"
     ]
    }
   ],
   "source": [
    "playlist_EDM = create_necessary_outputs('From edits', playlist_names,spotify_df)\n",
    "playlist_chill = create_necessary_outputs('Eyeex',playlist_names, spotify_df)\n",
    "#playlist_classical = create_necessary_outputs('Epic Classical',id_name, spotify_df)"
   ]
  },
  {
   "cell_type": "code",
   "execution_count": null,
   "metadata": {},
   "outputs": [],
   "source": []
  },
  {
   "cell_type": "code",
   "execution_count": null,
   "metadata": {},
   "outputs": [],
   "source": []
  },
  {
   "cell_type": "code",
   "execution_count": null,
   "metadata": {},
   "outputs": [],
   "source": []
  },
  {
   "cell_type": "code",
   "execution_count": null,
   "metadata": {},
   "outputs": [],
   "source": []
  },
  {
   "cell_type": "code",
   "execution_count": null,
   "metadata": {},
   "outputs": [],
   "source": []
  },
  {
   "cell_type": "code",
   "execution_count": null,
   "metadata": {},
   "outputs": [],
   "source": []
  },
  {
   "cell_type": "code",
   "execution_count": null,
   "metadata": {},
   "outputs": [],
   "source": []
  },
  {
   "cell_type": "code",
   "execution_count": null,
   "metadata": {},
   "outputs": [],
   "source": []
  },
  {
   "cell_type": "code",
   "execution_count": null,
   "metadata": {},
   "outputs": [],
   "source": []
  },
  {
   "cell_type": "code",
   "execution_count": null,
   "metadata": {},
   "outputs": [],
   "source": [
    "## show all recommendations"
   ]
  },
  {
   "cell_type": "code",
   "execution_count": null,
   "metadata": {},
   "outputs": [],
   "source": [
    "## show bad recommendations (low popularity)"
   ]
  },
  {
   "cell_type": "code",
   "execution_count": null,
   "metadata": {},
   "outputs": [],
   "source": [
    "## show good recommendations (high popularity)"
   ]
  }
 ],
 "metadata": {
  "kernelspec": {
   "display_name": "Python 3",
   "language": "python",
   "name": "python3"
  },
  "language_info": {
   "codemirror_mode": {
    "name": "ipython",
    "version": 3
   },
   "file_extension": ".py",
   "mimetype": "text/x-python",
   "name": "python",
   "nbconvert_exporter": "python",
   "pygments_lexer": "ipython3",
   "version": "3.7.10"
  }
 },
 "nbformat": 4,
 "nbformat_minor": 4
}
