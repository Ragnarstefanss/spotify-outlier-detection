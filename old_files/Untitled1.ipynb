{
 "cells": [
  {
   "cell_type": "code",
   "execution_count": 1,
   "metadata": {},
   "outputs": [],
   "source": [
    "import requests\n",
    "import json\n",
    "import pandas as pd\n",
    "from secrets import spotify_access_token, spotify_user_name\n",
    "SPOTIFY_CREATE_PLAYLIST_URL = f'https://api.spotify.com/v1/users/{spotify_user_name}/playlists'\n",
    "PLAYLIST_ITEM = 'https://api.spotify.com/v1/playlists/5e8ijEDzlaB0y9apSoZNBI/tracks'\n"
   ]
  },
  {
   "cell_type": "code",
   "execution_count": null,
   "metadata": {},
   "outputs": [],
   "source": []
  },
  {
   "cell_type": "code",
   "execution_count": null,
   "metadata": {},
   "outputs": [],
   "source": [
    "'''\n",
    "def create_playlist_on_spotify(name, public):\n",
    "    responses = requests.post(\n",
    "        SPOTIFY_CREATE_PLAYLIST_URL,\n",
    "        headers={\n",
    "            \"Authorization\": f\"Bearer {spotify_access_token}\"\n",
    "        },\n",
    "        json={\n",
    "            \"name\": name,\n",
    "            \"public\": public\n",
    "        }\n",
    "    )\n",
    "    json_resp = responses.json()\n",
    "    return json_resp\n",
    "'''"
   ]
  },
  {
   "cell_type": "code",
   "execution_count": null,
   "metadata": {},
   "outputs": [],
   "source": []
  },
  {
   "cell_type": "code",
   "execution_count": null,
   "metadata": {},
   "outputs": [],
   "source": [
    "def get_top_artists():\n",
    "    url = \"https://api.spotify.com/v1/me/top/artists\"\n",
    "    responses = requests.get(\n",
    "        url,\n",
    "        headers={\n",
    "            \"Content-Type\": \"application/json\",\n",
    "            \"Authorization\": f\"Bearer {spotify_access_token}\"\n",
    "        }\n",
    "    )\n",
    "    json_resp = responses.json()\n",
    "    print(json.dumps(json_resp, indent = 3))\n",
    "    #return json_resp\n",
    "#get_top_artists()"
   ]
  },
  {
   "cell_type": "code",
   "execution_count": null,
   "metadata": {},
   "outputs": [],
   "source": []
  },
  {
   "cell_type": "code",
   "execution_count": null,
   "metadata": {},
   "outputs": [],
   "source": []
  },
  {
   "cell_type": "code",
   "execution_count": null,
   "metadata": {},
   "outputs": [],
   "source": [
    "def get_artist(id):\n",
    "    url = f\"https://api.spotify.com/v1/artists/{id}\"\n",
    "    responses = requests.get(\n",
    "        url,\n",
    "        headers={\n",
    "            \"Content-Type\": \"application/json\",\n",
    "            \"Authorization\": f\"Bearer {spotify_access_token}\"\n",
    "        }\n",
    "    )\n",
    "    json_resp = responses.json()\n",
    "    print(json.dumps(json_resp, indent = 3))\n",
    "    #return json_resp\n",
    "#get_artist(\"5YGY8feqx7naU7z4HrwZM6\")"
   ]
  },
  {
   "cell_type": "code",
   "execution_count": null,
   "metadata": {},
   "outputs": [],
   "source": []
  },
  {
   "cell_type": "code",
   "execution_count": null,
   "metadata": {},
   "outputs": [],
   "source": []
  },
  {
   "cell_type": "code",
   "execution_count": null,
   "metadata": {},
   "outputs": [],
   "source": [
    "def user_top_tracks():\n",
    "    url = \"https://api.spotify.com/v1/me/top/tracks\"\n",
    "    responses = requests.get(\n",
    "        url,\n",
    "        headers={\n",
    "            \"Content-Type\": \"application/json\",\n",
    "            \"Authorization\": f\"Bearer {spotify_access_token}\"\n",
    "        }\n",
    "    )\n",
    "    json_resp = responses.json()\n",
    "    print(json.dumps(json_resp, indent = 3))\n",
    "    #return json_resp\n",
    "#user_top_tracks()"
   ]
  },
  {
   "cell_type": "code",
   "execution_count": null,
   "metadata": {},
   "outputs": [],
   "source": []
  },
  {
   "cell_type": "code",
   "execution_count": null,
   "metadata": {},
   "outputs": [],
   "source": [
    "def get_track(id):\n",
    "    url = f\"https://api.spotify.com/v1/tracks/{id}\"\n",
    "    responses = requests.get(\n",
    "        url,\n",
    "        headers={\n",
    "            \"Content-Type\": \"application/json\",\n",
    "            \"Authorization\": f\"Bearer {spotify_access_token}\"\n",
    "        }\n",
    "    )\n",
    "    json_resp = responses.json()\n",
    "    print(json.dumps(json_resp, indent = 3))\n",
    "    #return json_resp\n",
    "#get_track(\"6SdIYVgu6HsPPYfRY1XI8Y\")"
   ]
  },
  {
   "cell_type": "code",
   "execution_count": null,
   "metadata": {},
   "outputs": [],
   "source": []
  },
  {
   "cell_type": "code",
   "execution_count": 2,
   "metadata": {},
   "outputs": [],
   "source": [
    "def get_user_input(track_name):\n",
    "    while True:\n",
    "        try:\n",
    "            user_input = int(input((f\"Give: {track_name} a 0 for dislike and 1 from like\\n\")))\n",
    "        except ValueError:\n",
    "            print(\"Sorry, I didn't understand that.\")\n",
    "            continue\n",
    "\n",
    "        if (user_input == 0) or (user_input == 1):\n",
    "            #user input was successfully parsed, and we're happy with its value.\n",
    "            if(user_input == 0):\n",
    "                print(f\"{track_name} disliked\")\n",
    "            else:\n",
    "                print(f\"{track_name} liked\")\n",
    "            break\n",
    "    if user_input == 1: \n",
    "        return 1\n",
    "    elif user_input == 0:\n",
    "        return 0\n",
    "    else:\n",
    "        print(\"ERROR: Value not 0 or 1\")\n",
    "        get_user_input(track_name)"
   ]
  },
  {
   "cell_type": "code",
   "execution_count": null,
   "metadata": {},
   "outputs": [
    {
     "name": "stdout",
     "output_type": "stream",
     "text": [
      "name: Someday >>>>>> link: https://open.spotify.com/track/56NkIxSZZiMpFP5ZNSxtnT Popularity: 68\n"
     ]
    }
   ],
   "source": [
    "def get_recommendation():\n",
    "    market = \"IS\"\n",
    "    seed_artists= \"0MtTfq27LQu7CmE5t308Up\"\n",
    "    seed_genre = \"rock%2Cacoustic\"\n",
    "    seed_tracks = \"6SdIYVgu6HsPPYfRY1XI8Y\"\n",
    "    url = f\"https://api.spotify.com/v1/recommendations?market={market}&seed_artists={seed_artists}&seed_genres={seed_genre}&seed_tracks={seed_tracks}&min_energy=0.4&min_popularity=50\"\n",
    "    responses = requests.get(\n",
    "        url,\n",
    "        headers={\n",
    "            \"Content-Type\": \"application/json\",\n",
    "            \"Authorization\": f\"Bearer {spotify_access_token}\"\n",
    "        }\n",
    "    )\n",
    "    json_resp = responses.json()\n",
    "    #print(json_resp)\n",
    "    len_tracks = len(json_resp['tracks'])\n",
    "    \n",
    "    for item_number in range(len_tracks):\n",
    "        tracks = json_resp['tracks'][item_number]\n",
    "        track_id = tracks['id']\n",
    "        track_name = tracks['name']\n",
    "        track_popularity = tracks['popularity']\n",
    "        track_external_link = tracks['external_urls']['spotify']\n",
    "        \n",
    "        print(\"name: \" + str(track_name) + \n",
    "              \" >>>>>> \" + \"link: \" + str(track_external_link) + \n",
    "              \" Popularity: \" + str(track_popularity))\n",
    "        \n",
    "        value = get_user_input(track_name)\n",
    "\n",
    "    #print(json.dumps(json_resp, indent = 3))\n",
    "    #return json_resp\n",
    "get_recommendation()"
   ]
  },
  {
   "cell_type": "code",
   "execution_count": null,
   "metadata": {},
   "outputs": [],
   "source": []
  },
  {
   "cell_type": "code",
   "execution_count": null,
   "metadata": {},
   "outputs": [],
   "source": []
  },
  {
   "cell_type": "code",
   "execution_count": null,
   "metadata": {},
   "outputs": [],
   "source": []
  },
  {
   "cell_type": "code",
   "execution_count": null,
   "metadata": {},
   "outputs": [],
   "source": []
  },
  {
   "cell_type": "code",
   "execution_count": null,
   "metadata": {},
   "outputs": [],
   "source": []
  },
  {
   "cell_type": "code",
   "execution_count": null,
   "metadata": {},
   "outputs": [],
   "source": []
  },
  {
   "cell_type": "code",
   "execution_count": null,
   "metadata": {},
   "outputs": [],
   "source": []
  },
  {
   "cell_type": "code",
   "execution_count": null,
   "metadata": {},
   "outputs": [],
   "source": []
  },
  {
   "cell_type": "code",
   "execution_count": null,
   "metadata": {},
   "outputs": [],
   "source": []
  },
  {
   "cell_type": "code",
   "execution_count": null,
   "metadata": {},
   "outputs": [],
   "source": [
    "get_artist(\"0MtTfq27LQu7CmE5t308Up\")"
   ]
  },
  {
   "cell_type": "code",
   "execution_count": null,
   "metadata": {},
   "outputs": [],
   "source": [
    "\n",
    "def get_recommendation_from_artist(artist_id, country_code):\n",
    "    # bubbi_id = 0MtTfq27LQu7CmE5t308Up\n",
    "    # https://developer.spotify.com/console/get-recommendations/\n",
    "    url = f\"https://api.spotify.com/v1/recommendations?market={country_code}&seed_artists={artist_id}\"\n",
    "    responses = requests.get(\n",
    "        url,\n",
    "        headers={\n",
    "            \"Content-Type\": \"application/json\",\n",
    "            \"Authorization\": f\"Bearer {spotify_access_token}\"\n",
    "        }\n",
    "    )\n",
    "    json_resp = responses.json()\n",
    "    #with open(f'data/recommendations_from_{artist_id}.json', 'w') as f:\n",
    "     #   json.dump(json_resp, f, ensure_ascii=False)\n",
    "    #print(json_resp['tracks'][0].keys())\n",
    "\n",
    "    #print(json_resp['tracks'][1])\n",
    "    #return json_resp"
   ]
  },
  {
   "cell_type": "code",
   "execution_count": null,
   "metadata": {},
   "outputs": [],
   "source": [
    "get_recommendation_from_artist(\"0MtTfq27LQu7CmE5t308Up\", \"IS\")"
   ]
  },
  {
   "cell_type": "code",
   "execution_count": null,
   "metadata": {},
   "outputs": [],
   "source": []
  },
  {
   "cell_type": "code",
   "execution_count": null,
   "metadata": {},
   "outputs": [],
   "source": []
  }
 ],
 "metadata": {
  "kernelspec": {
   "display_name": "Python 3",
   "language": "python",
   "name": "python3"
  },
  "language_info": {
   "codemirror_mode": {
    "name": "ipython",
    "version": 3
   },
   "file_extension": ".py",
   "mimetype": "text/x-python",
   "name": "python",
   "nbconvert_exporter": "python",
   "pygments_lexer": "ipython3",
   "version": "3.8.3"
  }
 },
 "nbformat": 4,
 "nbformat_minor": 4
}
